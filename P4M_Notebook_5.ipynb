{
  "nbformat": 4,
  "nbformat_minor": 0,
  "metadata": {
    "colab": {
      "name": "P4M Notebook 5.ipynb",
      "provenance": [],
      "include_colab_link": true
    },
    "kernelspec": {
      "name": "python3",
      "display_name": "Python 3"
    }
  },
  "cells": [
    {
      "cell_type": "markdown",
      "metadata": {
        "id": "view-in-github",
        "colab_type": "text"
      },
      "source": [
        "<a href=\"https://colab.research.google.com/github/srfslvr14/Math-152/blob/main/P4M_Notebook_5.ipynb\" target=\"_parent\"><img src=\"https://colab.research.google.com/assets/colab-badge.svg\" alt=\"Open In Colab\"/></a>"
      ]
    },
    {
      "cell_type": "markdown",
      "metadata": {
        "id": "3Vh71OubDeRq"
      },
      "source": [
        "# Part 5:  Putting it together...\n",
        "\n",
        "To wrap things up, we are going to bring together the techniques we have seen, and attempt a few challenges.\n",
        "\n",
        "Please submit this notebook by 5pm (California time) on Wednesday, March 17th.  Your submission should include answers to all three questions from the first (Repetition and benchmarking) section, and **two** of the challenging problems."
      ]
    },
    {
      "cell_type": "markdown",
      "metadata": {
        "id": "tmXRsSLiDw2i"
      },
      "source": [
        "## Repetition and benchmarking\n",
        "\n",
        "Computers are very good at repetition.  As your programming skills improve, you can more easily coax your computer into performing more repetitions.  We have seen at least three ways of performing repetition:  with loops (e.g, for and while loops), with lists (especially slicing and comprehension), and with numpy arrays (especially vectorized functions).  \n",
        "\n",
        "It is good to see this, in a simple example, to reflect on what you've learned this quarter.  Our simple example will be producing a list of squares $n^2$ for $n$ in a range of numbers.\n",
        "\n",
        "The first things we learned were how to use Python as a calculator, printing \"answers\" to the screen, and using a \"for loop\" to repeat things.  Here is a bit of code in that spirit."
      ]
    },
    {
      "cell_type": "code",
      "metadata": {
        "id": "1_Gk52ZaDd1M",
        "colab": {
          "base_uri": "https://localhost:8080/"
        },
        "outputId": "647a99c9-ff8e-4788-cf5f-e17dc8c9cb3e"
      },
      "source": [
        "for n in range(10):\n",
        "  print(n*n)"
      ],
      "execution_count": 36,
      "outputs": [
        {
          "output_type": "stream",
          "name": "stdout",
          "text": [
            "0\n",
            "1\n",
            "4\n",
            "9\n",
            "16\n",
            "25\n",
            "36\n",
            "49\n",
            "64\n",
            "81\n"
          ]
        }
      ]
    },
    {
      "cell_type": "markdown",
      "metadata": {
        "id": "CI7QBmfi8jn1"
      },
      "source": [
        "Then we learned about lists.  Here are two ways to make a list of the squares, from $0^2$ up to $9^2$.  We print the list at the end of each code block."
      ]
    },
    {
      "cell_type": "code",
      "metadata": {
        "id": "_pSgH2YtEoDT",
        "colab": {
          "base_uri": "https://localhost:8080/"
        },
        "outputId": "707749a4-1b79-4ad5-e913-d3a8bc4e8301"
      },
      "source": [
        "L = []\n",
        "for n in range(10):\n",
        "  L.append(n*n)\n",
        "print(L)"
      ],
      "execution_count": 37,
      "outputs": [
        {
          "output_type": "stream",
          "name": "stdout",
          "text": [
            "[0, 1, 4, 9, 16, 25, 36, 49, 64, 81]\n"
          ]
        }
      ]
    },
    {
      "cell_type": "code",
      "metadata": {
        "id": "7arqtxfWESCf",
        "colab": {
          "base_uri": "https://localhost:8080/"
        },
        "outputId": "5dedba4a-94e2-4d3f-8a2d-b0aa5e95055d"
      },
      "source": [
        "L = [0]*10\n",
        "for n in range(10):\n",
        "  L[n] = n*n\n",
        "print(L)"
      ],
      "execution_count": 38,
      "outputs": [
        {
          "output_type": "stream",
          "name": "stdout",
          "text": [
            "[0, 1, 4, 9, 16, 25, 36, 49, 64, 81]\n"
          ]
        }
      ]
    },
    {
      "cell_type": "markdown",
      "metadata": {
        "id": "BG8Z6La18uv4"
      },
      "source": [
        "Hopefully you learned to give your lists better names, like `square_list`.  A very slick Pythonic way of producing a list is with \"list comprehension\".  Such an approach is in the code below."
      ]
    },
    {
      "cell_type": "code",
      "metadata": {
        "id": "uTel6wOOEZrm",
        "colab": {
          "base_uri": "https://localhost:8080/"
        },
        "outputId": "ebdc7f67-9f84-4acc-91a3-e333781f7cd6"
      },
      "source": [
        "square_list = [n*n for n in range(10)]\n",
        "print(square_list)"
      ],
      "execution_count": 39,
      "outputs": [
        {
          "output_type": "stream",
          "name": "stdout",
          "text": [
            "[0, 1, 4, 9, 16, 25, 36, 49, 64, 81]\n"
          ]
        }
      ]
    },
    {
      "cell_type": "markdown",
      "metadata": {
        "id": "EDUFarMO836b"
      },
      "source": [
        "Finally, we learned about the numpy package, which pumps arrays through the processor very quickly.  A numpy approach is below."
      ]
    },
    {
      "cell_type": "code",
      "metadata": {
        "id": "KWyPzv53EfRW"
      },
      "source": [
        "import numpy as np # First we have to load the package."
      ],
      "execution_count": 40,
      "outputs": []
    },
    {
      "cell_type": "code",
      "metadata": {
        "id": "sCWmWLfWEgqV",
        "colab": {
          "base_uri": "https://localhost:8080/"
        },
        "outputId": "68e0c7c5-8443-43e7-b46a-940a1d44a50b"
      },
      "source": [
        "A = np.arange(10)\n",
        "print(A*A)"
      ],
      "execution_count": 41,
      "outputs": [
        {
          "output_type": "stream",
          "name": "stdout",
          "text": [
            "[ 0  1  4  9 16 25 36 49 64 81]\n"
          ]
        }
      ]
    },
    {
      "cell_type": "markdown",
      "metadata": {
        "id": "WEKhWP4oE1GJ"
      },
      "source": [
        "Let's consider the question:  what is the fastest way to produce a list (or array) of squares?  To answer it, we will wrap things in different functions, and carry out some time analysis.  \n",
        "\n",
        "Notice that the functions are as identical as possible.  The method of creating a list/array is the different in each function.  But all the functions take a single input `N` and return a list or array with the squares of 0,...,N-1.  Note that there are **no print statements**!  Printing takes time, and we don't care about how much time it takes to *print* a list on your screen.  Also, if we run %timeit, then a print statement will fill your screen with tens of thousands of printed messages!"
      ]
    },
    {
      "cell_type": "code",
      "metadata": {
        "id": "8fDM7N4UEkj1"
      },
      "source": [
        "def make_sq_1(N):\n",
        "  L = []\n",
        "  for n in range(N):\n",
        "    L.append(n*n)\n",
        "  return L"
      ],
      "execution_count": 42,
      "outputs": []
    },
    {
      "cell_type": "code",
      "metadata": {
        "id": "qEZsZmViFJAE"
      },
      "source": [
        "def make_sq_2(N):\n",
        "  L = [0] * N\n",
        "  for n in range(N):\n",
        "    L[n] = n*n\n",
        "  return L"
      ],
      "execution_count": 43,
      "outputs": []
    },
    {
      "cell_type": "code",
      "metadata": {
        "id": "NhGyT-BYFOpM"
      },
      "source": [
        "def make_sq_3(N):\n",
        "  return [n*n for n in range(N)]"
      ],
      "execution_count": 44,
      "outputs": []
    },
    {
      "cell_type": "code",
      "metadata": {
        "id": "Api8iz1eFRlN"
      },
      "source": [
        "def make_sq_4(N):\n",
        "  A = np.arange(N)\n",
        "  return A*A"
      ],
      "execution_count": 45,
      "outputs": []
    },
    {
      "cell_type": "code",
      "metadata": {
        "id": "lZGA3AmEFVs0",
        "colab": {
          "base_uri": "https://localhost:8080/"
        },
        "outputId": "b4fb4fd3-fddd-4172-e972-f48aee85d644"
      },
      "source": [
        "%timeit make_sq_1(1000)"
      ],
      "execution_count": 46,
      "outputs": [
        {
          "output_type": "stream",
          "name": "stdout",
          "text": [
            "10000 loops, best of 5: 121 µs per loop\n"
          ]
        }
      ]
    },
    {
      "cell_type": "code",
      "metadata": {
        "id": "FVUJxnmfFYSU",
        "colab": {
          "base_uri": "https://localhost:8080/"
        },
        "outputId": "488c3ee6-966c-4af7-da2c-8f42236d7aa9"
      },
      "source": [
        "%timeit make_sq_2(1000)"
      ],
      "execution_count": 47,
      "outputs": [
        {
          "output_type": "stream",
          "name": "stdout",
          "text": [
            "10000 loops, best of 5: 93 µs per loop\n"
          ]
        }
      ]
    },
    {
      "cell_type": "code",
      "metadata": {
        "id": "Zt1l8hOsFZxs",
        "colab": {
          "base_uri": "https://localhost:8080/"
        },
        "outputId": "13c9386d-02ed-4e43-9c17-7bef452fce4b"
      },
      "source": [
        "%timeit make_sq_3(1000)"
      ],
      "execution_count": 48,
      "outputs": [
        {
          "output_type": "stream",
          "name": "stdout",
          "text": [
            "10000 loops, best of 5: 77.5 µs per loop\n"
          ]
        }
      ]
    },
    {
      "cell_type": "code",
      "metadata": {
        "id": "pSVmRwAdFb5s",
        "colab": {
          "base_uri": "https://localhost:8080/"
        },
        "outputId": "eb856acd-c023-41b7-8eea-91b05fe81709"
      },
      "source": [
        "%timeit make_sq_4(1000)"
      ],
      "execution_count": 49,
      "outputs": [
        {
          "output_type": "stream",
          "name": "stdout",
          "text": [
            "The slowest run took 16.44 times longer than the fastest. This could mean that an intermediate result is being cached.\n",
            "100000 loops, best of 5: 2.99 µs per loop\n"
          ]
        }
      ]
    },
    {
      "cell_type": "markdown",
      "metadata": {
        "id": "wtjJCpIvF965"
      },
      "source": [
        "These benchmarks are useful, but let's do a graphical analysis.  This is the last thing we studied."
      ]
    },
    {
      "cell_type": "code",
      "metadata": {
        "id": "CNgnxRhFGIz9"
      },
      "source": [
        "import matplotlib.pyplot as plt\n",
        "import seaborn as sns # In case we want some modern stylings.\n",
        "import time as time"
      ],
      "execution_count": 50,
      "outputs": []
    },
    {
      "cell_type": "markdown",
      "metadata": {
        "id": "_nCiB6uSJT2C"
      },
      "source": [
        "Now we are going to create a graph to benchmark the performance of these three functions.  This will use a few new programming techniques."
      ]
    },
    {
      "cell_type": "code",
      "metadata": {
        "id": "3Qbzo01tFdi8",
        "colab": {
          "base_uri": "https://localhost:8080/",
          "height": 0
        },
        "outputId": "147579cc-dc17-4e5b-a8ee-77aa06bdc1f3"
      },
      "source": [
        "fig,ax = plt.subplots(1,1,figsize=(8,5)) # Initialize a plot.\n",
        "N_array = np.array([2**n for n in range(1,21)]) # We'll try N in the array [2,4,8,..,~1 million]\n",
        "for method in [make_sq_1, make_sq_2, make_sq_3, make_sq_4]: # A list of functions, oh my!\n",
        "  time_array = np.zeros(len(N_array)) # Initialize an array of zeros\n",
        "  for j,N in enumerate(N_array):  # See notes afterwards about the enumerate command.\n",
        "    time_tot = 0\n",
        "    for reps in range(10): # Average of 10 repetitions.\n",
        "      start_time = time.time()\n",
        "      method(N)\n",
        "      end_time = time.time()\n",
        "      time_tot += end_time - start_time\n",
        "    time_ave = time_tot / 10\n",
        "    time_array[j] = time_ave\n",
        "  plt.plot(N_array, time_array, label='Time using function '+method.__name__)\n",
        "plt.legend()\n",
        "plt.xscale('log')\n",
        "plt.yscale('log')\n",
        "plt.suptitle('Time to create a list of squares from 1 to N')\n",
        "plt.xlabel('Length of list (N)')\n",
        "plt.ylabel('Time (seconds)')\n",
        "plt.show()"
      ],
      "execution_count": 51,
      "outputs": [
        {
          "output_type": "display_data",
          "data": {
            "image/png": "[encoded data removed]",
            "text/plain": [
              "<Figure size 576x360 with 1 Axes>"
            ]
          },
          "metadata": {
            "needs_background": "light"
          }
        }
      ]
    },
    {
      "cell_type": "code",
      "metadata": {
        "id": "D7YqhyfZHgW5"
      },
      "source": [
        ""
      ],
      "execution_count": 51,
      "outputs": []
    },
    {
      "cell_type": "markdown",
      "metadata": {
        "id": "eWyplW1_Jfak"
      },
      "source": [
        "Let's do a line-by-line analysis.\n",
        "\n",
        "1.  `fig,ax = plt.subplots(1,1,figsize=(8,5))`\n",
        "\n",
        "2.  `N_array = np.array([2**n for n in range(1,21)])`\n",
        "\n",
        "3.  `for method in [make_sq_1, make_sq_2, make_sq_3, make_sq_4]:`\n",
        "\n",
        "4.  `  time_array = np.zeros(len(N_array)) # Initialize an array of zeros`\n",
        "\n",
        "5.  `  for j,N in enumerate(N_array):`\n",
        "\n",
        "6.  `    time_tot = 0`\n",
        "    `for reps in range(10):`\n",
        "      `start_time = time.time()`\n",
        "      `method(N)`\n",
        "      `end_time = time.time()`\n",
        "      `time_tot += end_time - start_time`\n",
        "    `time_ave = time_tot / 10`\n",
        "\n",
        "    `time_array[j] = time_ave`\n",
        "7.    `plt.plot(N_array, time_array, label='Time using function '+method.__name__)`\n",
        "\n",
        "8.  `plt.legend()`\n",
        "\n",
        "9.  `plt.xscale('log')`\n",
        "10. `plt.yscale('log')`"
      ]
    },
    {
      "cell_type": "markdown",
      "metadata": {
        "id": "0Ucwm_uHKL1w"
      },
      "source": [
        "Line 1 initializes a plot, with figure size 8 inches by 5 inches.  The \"1,1\" means that the plot has no subplots, or more precisely, it is a 1 by 1 grid of plots.  (Only one plot).\n",
        "\n",
        "In line 2, we use a list comprehension to make a list [2,4,8,16,..., 2^20].  Note that 2^20 is about one million.  These are the N's that we're going to work with.\n",
        "\n",
        "Line 3 might be surprising and interesting.  The variable `method` is iterated through an array of four *functions*!  Yes, we can have a list of functions!  And then we can use those functions!  Functions are Python objects like any other, and they can be treated as such.\n",
        "\n",
        "Lines 4-6 create an array of times.  Instead of using the %timeit magic, we store our times in an array, and we carry out a timing experiment from scratch.  Line 4 just initializes a numpy array of zeros to fill later.\n",
        "\n",
        "Line 5 has a new command `enumerate` in the loop.  This makes `N` iterate through our `N_array`, and meanwhile `j` will simply \"count up\".  It's equivalent to setting `j=0` before the loop, and putting a `j = j + 1` within the loop to count.\n",
        "\n",
        "Line 6 carries out the timing experiment.  It runs a function (`method`) to create a list of squares up to `N`.  It does this 10 times, checking the time before and after each time.  Then it computes the average amount of time elapsed (among the 10 repetitions) and records this in the `time_array`.\n",
        "\n",
        "Line 7 plots `N` on the x-axis and time (`time_array`) on the y-axis with a line plot.  It assigns this plot a label, which is the name of the method.  To find the name of the function `method`, you can use `method.__name__`.  That's a bit fancier Python.\n",
        "\n",
        "Finally, Line 8 produces the legend from the labels.  \n",
        "\n",
        "Lines 9 and 10 make the x-axis and y-axis log-scaled, which is helpful since the variable `N` is increasing exponentially, and some times are as short as microseconds while others are closer to milliseconds or seconds.\n",
        "\n",
        "The rest is styling."
      ]
    },
    {
      "cell_type": "markdown",
      "metadata": {
        "id": "6anmwPIoLwdu"
      },
      "source": [
        "## Exercises\n",
        "\n",
        "1.  Interpret the plot above.  Which method is fastest for long lists?  Which method is fastest for short lists?  At what size `N` should you switch from one method to the other?\n",
        "\n",
        "2.  Add another method to the plot, by defining your own function `make_sq_5` that mirros the basic structure of the other `make_sq` functions.  Note that your function must create the list in a different way, but it should still take the same parameter `N` and return a list or numpy array.  Create the plot with your function added to the other four, and compare the performance of your method to the others.\n",
        "\n",
        "3.  Create a function with `def inflate(S):` which takes as input a string `S` and returns a string in which the 1st letter of `S` appears once, and the second letter appears twice, the third letter appears three times, etc.  For example, `inflate('Hello')` should return the string `'Heelllllllooooo'`.  You must use a loop of the form `for j,letter in enumerate(S):`, and *no other loops*!"
      ]
    },
    {
      "cell_type": "markdown",
      "metadata": {
        "id": "5cc5rYeH9rcr"
      },
      "source": [
        "Put your solutions here."
      ]
    },
    {
      "cell_type": "markdown",
      "source": [
        "###1."
      ],
      "metadata": {
        "id": "V1v-IQQa-xh6"
      }
    },
    {
      "cell_type": "markdown",
      "source": [
        "make_sq_4(N) is the fastest method for large length lists \n",
        "\n",
        "make_sq_3(N) is the fastest method for short length lists\n",
        "\n",
        "make_sq_4(N) shifts from the worst timed fucntion to the best timed function starting as N approaches 20"
      ],
      "metadata": {
        "id": "PkLhbbiR-8cl"
      }
    },
    {
      "cell_type": "markdown",
      "source": [
        "###2."
      ],
      "metadata": {
        "id": "0bdiWE-M-y2i"
      }
    },
    {
      "cell_type": "markdown",
      "source": [
        "make_sq_5(N) is designed to create a list *A* full of the numbers [1,...,N] by appending *i* to list *A*, then take each element from that list, and square it. As we can guess, from this implimentation, we must loop through all numbers [1,...,N], which takes N iterations, and then loop through the list *A*, which will have a length of N. This will result in 2N iterations in order to produce a list *A* of length *N* which is full of squares. This is more than the average iteration rate of N for the other functions, so I expect make_sq_5(N) to take longer when we approac longer numbers."
      ],
      "metadata": {
        "id": "8vkCb_5FUUPh"
      }
    },
    {
      "cell_type": "code",
      "source": [
        "def make_sq_5(N):\n",
        "  A = []\n",
        "  for i in range(1,N): A.append(i)\n",
        "  for el in range(0,len(A)):\n",
        "    A[el] = (A[el])**2\n",
        "  return A\n",
        "print(make_sq_5(100))\n",
        "%timeit make_sq_5(1000)"
      ],
      "metadata": {
        "colab": {
          "base_uri": "https://localhost:8080/"
        },
        "id": "A1ow35Z5_VfB",
        "outputId": "1e95eec8-bad4-47bf-b422-ad62367d07f0"
      },
      "execution_count": 20,
      "outputs": [
        {
          "output_type": "stream",
          "name": "stdout",
          "text": [
            "[1, 4, 9, 16, 25, 36, 49, 64, 81, 100, 121, 144, 169, 196, 225, 256, 289, 324, 361, 400, 441, 484, 529, 576, 625, 676, 729, 784, 841, 900, 961, 1024, 1089, 1156, 1225, 1296, 1369, 1444, 1521, 1600, 1681, 1764, 1849, 1936, 2025, 2116, 2209, 2304, 2401, 2500, 2601, 2704, 2809, 2916, 3025, 3136, 3249, 3364, 3481, 3600, 3721, 3844, 3969, 4096, 4225, 4356, 4489, 4624, 4761, 4900, 5041, 5184, 5329, 5476, 5625, 5776, 5929, 6084, 6241, 6400, 6561, 6724, 6889, 7056, 7225, 7396, 7569, 7744, 7921, 8100, 8281, 8464, 8649, 8836, 9025, 9216, 9409, 9604, 9801]\n",
            "1000 loops, best of 5: 386 µs per loop\n"
          ]
        }
      ]
    },
    {
      "cell_type": "code",
      "source": [
        "fig,ax = plt.subplots(1,1,figsize=(8,5)) # Initialize a plot.\n",
        "N_array = np.array([2**n for n in range(1,21)]) # We'll try N in the array [2,4,8,..,~1 million]\n",
        "for method in [make_sq_1, make_sq_2, make_sq_3, make_sq_4, make_sq_5]: # A list of functions, oh my!\n",
        "  time_array = np.zeros(len(N_array)) # Initialize an array of zeros\n",
        "  for j,N in enumerate(N_array):  # See notes afterwards about the enumerate command.\n",
        "    time_tot = 0\n",
        "    for reps in range(10): # Average of 10 repetitions.\n",
        "      start_time = time.time()\n",
        "      method(N)\n",
        "      end_time = time.time()\n",
        "      time_tot += end_time - start_time\n",
        "    time_ave = time_tot / 10\n",
        "    time_array[j] = time_ave\n",
        "  plt.plot(N_array, time_array, label='Time using function '+method.__name__)\n",
        "plt.legend()\n",
        "plt.xscale('log')\n",
        "plt.yscale('log')\n",
        "plt.suptitle('Time to create a list of squares from 1 to N')\n",
        "plt.xlabel('Length of list (N)')\n",
        "plt.ylabel('Time (seconds)')\n",
        "plt.show()"
      ],
      "metadata": {
        "colab": {
          "base_uri": "https://localhost:8080/",
          "height": 0
        },
        "id": "GdeXbLIr_WCM",
        "outputId": "097a97ad-1556-47e0-ef15-e08a250ace46"
      },
      "execution_count": 21,
      "outputs": [
        {
          "output_type": "display_data",
          "data": {
            "image/png": "[encoded data removed]",
            "text/plain": [
              "<Figure size 576x360 with 1 Axes>"
            ]
          },
          "metadata": {
            "needs_background": "light"
          }
        }
      ]
    },
    {
      "cell_type": "markdown",
      "source": [
        "###3."
      ],
      "metadata": {
        "id": "NGLsGzFt-7Kl"
      }
    },
    {
      "cell_type": "code",
      "source": [
        "def inflate(S):\n",
        "  restr = ''\n",
        "  for j,letter in enumerate(S):\n",
        "    restr = restr + (letter * (j+1))\n",
        "  return restr"
      ],
      "metadata": {
        "id": "SmvJSgJiVVpZ"
      },
      "execution_count": 22,
      "outputs": []
    },
    {
      "cell_type": "code",
      "source": [
        "print( inflate(\"12345\") )\n",
        "print( inflate(\"Hello\") )"
      ],
      "metadata": {
        "colab": {
          "base_uri": "https://localhost:8080/"
        },
        "id": "XX4-At-lWPRU",
        "outputId": "7aa1a700-45ae-4bd1-9af6-061cb57fe0e0"
      },
      "execution_count": 23,
      "outputs": [
        {
          "output_type": "stream",
          "name": "stdout",
          "text": [
            "122333444455555\n",
            "Heelllllllooooo\n"
          ]
        }
      ]
    },
    {
      "cell_type": "markdown",
      "metadata": {
        "id": "F3CDgf54dWoL"
      },
      "source": [
        "# Final challenges!\n",
        "\n",
        "Please turn in your notebooks with your attempts on **two** of the challenges below.  **Only two** will be graded."
      ]
    },
    {
      "cell_type": "markdown",
      "source": [
        "### I completed challenge 4 and 5\n"
      ],
      "metadata": {
        "id": "4pNv8MN5wi2y"
      }
    },
    {
      "cell_type": "markdown",
      "metadata": {
        "id": "Zg0Nc1e6aDi7"
      },
      "source": [
        "# Challenge 4"
      ]
    },
    {
      "cell_type": "markdown",
      "source": [
        "\n",
        "Pascal's triangle has $1$ in the first row, then $1, 1$ in the second rod, then $1,2,1$ in the third row, etc.  One can place these numbers in a triangle, with \"rows\" as diagonals, as drawn below.\n",
        "\n",
        "1 1 1 1 1 1\n",
        "\n",
        "1 2 3 4 5\n",
        "\n",
        "1 3 6 10\n",
        "\n",
        "1 4 10\n",
        "\n",
        "1 5\n",
        "\n",
        "1\n",
        "\n",
        "Et cetera.\n",
        "\n",
        "Turn these numbers into black and white dots, depending on whether they are even (black) or odd (white).  This produces an image like the following:\n",
        "\n",
        "X X X X X X\n",
        "\n",
        "X O X O X\n",
        "\n",
        "X X O O\n",
        "\n",
        "X O O\n",
        "\n",
        "X X\n",
        "\n",
        "X\n",
        "\n",
        "Now perform this in PIL, to create an image that fills the top-left triangle in an image of at least 200 x 200 pixels.  You should *not* be computing giant numbers like 200 factorial!  Each row of Pascal's triangle can be computed from the previous by addition... and you can perform this \"mod 2\" all the way through.\n",
        "\n",
        "Extra fun:  instead of black/white dots for even/odd, try colors based on remainders after dividing by three, by four, etc.\n"
      ],
      "metadata": {
        "id": "xdTbXN5gz7mT"
      }
    },
    {
      "cell_type": "markdown",
      "source": [
        "Here I show the basic logic to build Pascal's triangle on a 10x10 scale. This methodology works fine, but is unusable for large values inside Pascal Cells. I then implimented a similar function as shwon in the next code cell, which storess Pascal's Triangle full of 1s and 0s, which will allow me to tell if a Pascal Cell is even or odd, without having to store large numbers. This new format of storing small even and odd numbers allows the process of displaying a 400x400 image much easier on the computer."
      ],
      "metadata": {
        "id": "SZrPLVdiDKvD"
      }
    },
    {
      "cell_type": "code",
      "source": [
        "Pascals = np.full((10, 10), 0) # init pascal's triangle array for later\n",
        "for x in range(10): \n",
        "  for y in range(10): \n",
        "    # build pascal's triangle \n",
        "    if x == 0 or y == 0: \n",
        "      # base starting edge, save as 1\n",
        "      Pascals[x,y] = 1\n",
        "\n",
        "    else:  \n",
        "      # pascal cell is even value, save as 0\n",
        "      Pascals[x,y] = Pascals[x-1,y] + Pascals[x,y-1]\n",
        "\n",
        "    # else: # (Pascals[x-1,y] + Pascals[x,y-1]) % 2 == 1\n",
        "    #   # pascal cell is odd value, save as 1\n",
        "    #   Pascals[x,y] = 1\n",
        "print(Pascals)"
      ],
      "metadata": {
        "id": "3qH8yXcMDR87",
        "outputId": "f538176c-c174-4345-e855-ab94842cd86d",
        "colab": {
          "base_uri": "https://localhost:8080/"
        }
      },
      "execution_count": 25,
      "outputs": [
        {
          "output_type": "stream",
          "name": "stdout",
          "text": [
            "[[    1     1     1     1     1     1     1     1     1     1]\n",
            " [    1     2     3     4     5     6     7     8     9    10]\n",
            " [    1     3     6    10    15    21    28    36    45    55]\n",
            " [    1     4    10    20    35    56    84   120   165   220]\n",
            " [    1     5    15    35    70   126   210   330   495   715]\n",
            " [    1     6    21    56   126   252   462   792  1287  2002]\n",
            " [    1     7    28    84   210   462   924  1716  3003  5005]\n",
            " [    1     8    36   120   330   792  1716  3432  6435 11440]\n",
            " [    1     9    45   165   495  1287  3003  6435 12870 24310]\n",
            " [    1    10    55   220   715  2002  5005 11440 24310 48620]]\n"
          ]
        }
      ]
    },
    {
      "cell_type": "code",
      "source": [
        "Pascals = np.full((10, 10), 0) # init pascal's triangle array for later\n",
        "for x in range(10): \n",
        "  for y in range(10): \n",
        "    # build pascal's triangle \n",
        "    if x == 0 or y == 0: \n",
        "      # base starting edge, save as 1\n",
        "      Pascals[x,y] = 1\n",
        "\n",
        "    elif (Pascals[x-1,y] + Pascals[x,y-1]) % 2 == 0: \n",
        "      # pascal cell is even value, save as 0\n",
        "      Pascals[x,y] = 0\n",
        "\n",
        "    else: # (Pascals[x-1,y] + Pascals[x,y-1]) % 2 == 1\n",
        "      # pascal cell is odd value, save as 1\n",
        "      Pascals[x,y] = 1\n",
        "print(Pascals)"
      ],
      "metadata": {
        "colab": {
          "base_uri": "https://localhost:8080/"
        },
        "id": "sO1Noi3vm8D4",
        "outputId": "d040d545-b503-4f1d-f8a4-0cbdd3c33a88"
      },
      "execution_count": 23,
      "outputs": [
        {
          "output_type": "stream",
          "name": "stdout",
          "text": [
            "[[1 1 1 1 1 1 1 1 1 1]\n",
            " [1 0 1 0 1 0 1 0 1 0]\n",
            " [1 1 0 0 1 1 0 0 1 1]\n",
            " [1 0 0 0 1 0 0 0 1 0]\n",
            " [1 1 1 1 0 0 0 0 1 1]\n",
            " [1 0 1 0 0 0 0 0 1 0]\n",
            " [1 1 0 0 0 0 0 0 1 1]\n",
            " [1 0 0 0 0 0 0 0 1 0]\n",
            " [1 1 1 1 1 1 1 1 0 0]\n",
            " [1 0 1 0 1 0 1 0 0 0]]\n"
          ]
        }
      ]
    },
    {
      "cell_type": "code",
      "source": [
        "from PIL import Image # Load the package.\n",
        "import numpy as np\n",
        "\n",
        "array = Pascals = []\n",
        "array = np.zeros([400, 400, 3], dtype=np.uint8) # Recall uint8 = unsigned 8-bit integer.  Must be in 0...255.\n",
        "Pascals = np.full((400, 400), 0) # init pascal's triangle array for later\n",
        "\n",
        "for x in range(400): \n",
        "  for y in range(400): \n",
        "    # build pascal's triangle \n",
        "    if x == 0 or y == 0: \n",
        "      # base starting edge, save as 1\n",
        "      Pascals[x,y] = 1\n",
        "\n",
        "    elif (Pascals[x-1,y] + Pascals[x,y-1]) % 2 == 0: \n",
        "      # pascal cell is even value, save as 0\n",
        "      Pascals[x,y] = 0\n",
        "      array[x,y] = [0,0,0]\n",
        "\n",
        "    else: # (Pascals[x-1,y] + Pascals[x,y-1]) % 2 == 1\n",
        "      # pascal cell is odd value, save as 1\n",
        "      Pascals[x,y] = 1\n",
        "      array[x,y] = [255,255,255]\n",
        "\n",
        "img = Image.fromarray(array) # Create an image from the array.\n",
        "display(img) # Display the image in the notebook."
      ],
      "metadata": {
        "id": "aaQ_rDKaCavt",
        "outputId": "86dbd40c-7230-42fb-c874-9237fa2ef247",
        "colab": {
          "base_uri": "https://localhost:8080/",
          "height": 417
        }
      },
      "execution_count": 21,
      "outputs": [
        {
          "output_type": "display_data",
          "data": {
            "text/plain": [
              "<PIL.Image.Image image mode=RGB size=400x400 at 0x7F976B5D6AD0>"
            ],
            "image/png": "[encoded data removed]"
          },
          "metadata": {}
        }
      ]
    },
    {
      "cell_type": "markdown",
      "source": [
        "For this next aspect of the challenge, I adapted my previous logic, in which I store 1s and 0s in an array, and use *Pascals* Array as a reference for the image's pixels. Now, instead of storing only 1s or 0s, *Pascals* can store 1, 2, 3, 4, or 0, depending on if the computed number's remainder when divided by 5. Each remainder is displayed via a varying color, which gives us the alternate image below!"
      ],
      "metadata": {
        "id": "RtbD9F8TEZ3F"
      }
    },
    {
      "cell_type": "code",
      "source": [
        "from PIL import Image # Load the package.\n",
        "import numpy as np\n",
        "\n",
        "array = Pascals = []\n",
        "array = np.zeros([400, 400, 3], dtype=np.uint8) # Recall uint8 = unsigned 8-bit integer.  Must be in 0...255.\n",
        "Pascals = np.full((400, 400), 0) # init pascal's triangle array for later\n",
        "\n",
        "for x in range(400): \n",
        "  for y in range(400): \n",
        "    # build pascal's triangle \n",
        "    if x == 0 or y == 0: \n",
        "      # base starting edge, save as 1\n",
        "      Pascals[x,y] = 1\n",
        "\n",
        "    elif (Pascals[x-1,y] + Pascals[x,y-1]) % 5 == 0: \n",
        "      # pascal cell is odd value, save as 0\n",
        "      Pascals[x,y] = 0\n",
        "      array[x,y] = [0,0,0]\n",
        "\n",
        "    elif (Pascals[x-1,y] + Pascals[x,y-1]) % 5 == 1: \n",
        "      # pascal cell is odd value, save as 1\n",
        "      Pascals[x,y] = 1\n",
        "      array[x,y] = [255,0,0]\n",
        "\n",
        "    elif (Pascals[x-1,y] + Pascals[x,y-1]) % 5 == 2: \n",
        "      # pascal cell is odd value, save as 2\n",
        "      Pascals[x,y] = 2\n",
        "      array[x,y] = [0,255,0]\n",
        "    \n",
        "    elif (Pascals[x-1,y] + Pascals[x,y-1]) % 5 == 3: \n",
        "      # pascal cell is odd value, save as 3\n",
        "      Pascals[x,y] = 3\n",
        "      array[x,y] = [0,0,255]\n",
        "\n",
        "    else: # (Pascals[x-1,y] + Pascals[x,y-1]) % 5 == 4\n",
        "      # pascal cell is even value, save as 4\n",
        "      Pascals[x,y] = 4\n",
        "      array[x,y] = [255,255,255]\n",
        "\n",
        "img = Image.fromarray(array) # Create an image from the array.\n",
        "display(img) # Display the image in the notebook."
      ],
      "metadata": {
        "colab": {
          "base_uri": "https://localhost:8080/",
          "height": 542
        },
        "id": "7GjF05pNeKUO",
        "outputId": "e0a12977-3ca2-48c8-9fba-3a1dcc8d106e"
      },
      "execution_count": 22,
      "outputs": [
        {
          "output_type": "stream",
          "name": "stdout",
          "text": [
            "[[1 1 1 ... 1 1 1]\n",
            " [1 2 3 ... 3 4 0]\n",
            " [1 3 1 ... 1 0 0]\n",
            " ...\n",
            " [1 3 1 ... 0 0 0]\n",
            " [1 4 0 ... 0 0 0]\n",
            " [1 0 0 ... 0 0 0]]\n"
          ]
        },
        {
          "output_type": "display_data",
          "data": {
            "text/plain": [
              "<PIL.Image.Image image mode=RGB size=400x400 at 0x7F976B5F3BD0>"
            ],
            "image/png": "[encoded data removed]"
          },
          "metadata": {}
        }
      ]
    },
    {
      "cell_type": "markdown",
      "metadata": {
        "id": "qjBNKFCd95sS"
      },
      "source": [
        "# Challenge 5\n"
      ]
    },
    {
      "cell_type": "markdown",
      "source": [
        "### Given Work"
      ],
      "metadata": {
        "id": "tu9Unj8M32BC"
      }
    },
    {
      "cell_type": "markdown",
      "source": [
        "\n",
        "Often when visualizing time-series data, it makes sense to look not at day-by-day changes, but rather at a 7-day rolling average.  For example, when looking at Covid-19 cases, there are reporting fluctuations from day to day, so instead it is usually better to look at the average number of cases over the previous 7 days.\n",
        "\n",
        "Write a function `def rolling(A, window=7):` which takes as input a one-dimensional numpy array `A`, and a parameter `window` whose default value is `7`.  The function must return an array `R` whose length is shorter than the length of `A`.  The entry `R[j]` should be the **average** of `A[j]`, `A[j+1]`, etc., up to `A[j+window-1]`.  \n",
        "\n",
        "Then use this function and matplotlib to produce a plot:  a line plot of the array `A` produced below, and a line plot of the 7-day rolling average `R` produced by your function.  These plots should be on the same figure, and clearly labeled."
      ],
      "metadata": {
        "id": "Uqd_TsmA32JR"
      }
    },
    {
      "cell_type": "code",
      "metadata": {
        "id": "lu-pNl8SbeEG"
      },
      "source": [
        "# Here is the code to produce your test array A.\n",
        "# Please use this array in your plot!\n",
        "\n",
        "x_array = np.arange(300)\n",
        "A = 5*(x_array/200)**2\n",
        "A = A + np.random.random(len(A))"
      ],
      "execution_count": 397,
      "outputs": []
    },
    {
      "cell_type": "code",
      "metadata": {
        "id": "oq5NDBV4_tCs"
      },
      "source": [
        "# Please use this code to import matplotlib.\n",
        "import matplotlib.pyplot as plt"
      ],
      "execution_count": 398,
      "outputs": []
    },
    {
      "cell_type": "code",
      "metadata": {
        "id": "9BM_gTge_6rb",
        "colab": {
          "base_uri": "https://localhost:8080/",
          "height": 0
        },
        "outputId": "314a95d0-82b3-4804-cc9d-d3dd98ee272b"
      },
      "source": [
        "# Here is a plot of the array, to get you started.  \n",
        "plt.plot(x_array, A)\n",
        "# Now it's time to write your function to produce the 7-day rolling average, add it to the plot, and make everything clear and labeled."
      ],
      "execution_count": 399,
      "outputs": [
        {
          "output_type": "execute_result",
          "data": {
            "text/plain": [
              "[<matplotlib.lines.Line2D at 0x7f40e8443190>]"
            ]
          },
          "metadata": {},
          "execution_count": 399
        },
        {
          "output_type": "display_data",
          "data": {
            "image/png": "[encoded data removed]",
            "text/plain": [
              "<Figure size 432x288 with 1 Axes>"
            ]
          },
          "metadata": {
            "needs_background": "light"
          }
        }
      ]
    },
    {
      "cell_type": "markdown",
      "source": [
        "### My Work using Rolling"
      ],
      "metadata": {
        "id": "pzpY5jjx3yEp"
      }
    },
    {
      "cell_type": "code",
      "source": [
        "def rolling(A, window=7):\n",
        "  R = []\n",
        "  i = 0\n",
        "\n",
        "  while i < len(A) - window + 1:\n",
        "    w = A[i : i + window]\n",
        "    avg = sum(w) / window\n",
        "    R.append(avg)\n",
        "    i += 1\n",
        "  \n",
        "  return R"
      ],
      "metadata": {
        "id": "4AbA_Lnd2Dm5"
      },
      "execution_count": 470,
      "outputs": []
    },
    {
      "cell_type": "code",
      "metadata": {
        "id": "3OlNFd1xJ1CV",
        "colab": {
          "base_uri": "https://localhost:8080/",
          "height": 0
        },
        "outputId": "e7e48877-5960-4103-f510-b70d5a6bcca4"
      },
      "source": [
        "x_array = np.arange(300)\n",
        "A = 5*(x_array/200)**2\n",
        "A = A + np.random.random(len(A))\n",
        "plt.plot(x_array, A, label='Day To Day Cases')\n",
        "\n",
        "R = rolling(A, window=7)\n",
        "x_array = np.arange(len(R))\n",
        "\n",
        "plt.xlabel(\"Days\")\n",
        "plt.ylabel(\"Covid Cases\")\n",
        "plt.title(\"Average Covid Cases\")\n",
        "plt.plot(x_array, R, label='Averaged Weekly Cases')\n",
        "plt.legend()\n",
        "plt.show()"
      ],
      "execution_count": 472,
      "outputs": [
        {
          "output_type": "display_data",
          "data": {
            "image/png": "[encoded data removed]",
            "text/plain": [
              "<Figure size 432x288 with 1 Axes>"
            ]
          },
          "metadata": {
            "needs_background": "light"
          }
        }
      ]
    }
  ]
}