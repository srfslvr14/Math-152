{
  "nbformat": 4,
  "nbformat_minor": 0,
  "metadata": {
    "colab": {
      "name": "exploration1.ipynb",
      "provenance": [],
      "collapsed_sections": [
        "TzHFL_n0SRxP",
        "b1SsN7RBoLW0",
        "QRRkMIPks8T0",
        "kizelu1mEv4X",
        "EJXTq3GL6uME",
        "UE_gcDjSEFP9",
        "LALyYpu2SeSN"
      ],
      "include_colab_link": true
    },
    "kernelspec": {
      "name": "python3",
      "display_name": "Python 3"
    },
    "language_info": {
      "name": "python"
    }
  },
  "cells": [
    {
      "cell_type": "markdown",
      "metadata": {
        "id": "view-in-github",
        "colab_type": "text"
      },
      "source": [
        "<a href=\"https://colab.research.google.com/github/srfslvr14/Math-152/blob/main/exploration1.ipynb\" target=\"_parent\"><img src=\"https://colab.research.google.com/assets/colab-badge.svg\" alt=\"Open In Colab\"/></a>"
      ]
    },
    {
      "cell_type": "markdown",
      "source": [
        "# Exploration 1 : *The 3n+1 Conjecture.*\n"
      ],
      "metadata": {
        "id": "TzHFL_n0SRxP"
      }
    },
    {
      "cell_type": "markdown",
      "source": [
        "Presented to you by the **PurpleOs**: \n",
        "  - Abhishek Sriramgroup\n",
        "  - Luisana Rodriguez Sequeira \n",
        "  - Spencer Fulgham\n",
        "  - Tim Du"
      ],
      "metadata": {
        "id": "nk5mBrsmfgC0"
      }
    },
    {
      "cell_type": "markdown",
      "source": [
        "\n",
        "In this notebook, we will be exploring the fabeled **3n+1 conjecture**. This conjecture states that, starting with some number *n*, we can create a series by following two rules.\n",
        "\n",
        "1. If *n* is an even number, divide it by 2\n",
        "2. if *n* is an odd number, have *n = 3n+1*\n",
        "\n",
        "By following these rules, we will result in a series containing each iteration and value of *n* as we progress, and, by the odd properties of this conjecture, the series will inevitabley begin repeating 4,2,1 over and over again. This is because 4 is even, so *n* = (4/2) = 2, 2 is even, so *n* = (2/2) = 1, and since 1 is odd, *n* = (3x1+1) = 4, and thus we arrive back at *n* = 4.\n",
        "\n",
        "For example, if we take *n* = 10, we find the resulting series: [ 10, 5, 16, 8, 4, 2, 1, 4, 2, 1, 4, 2, 1, 4, 2, 1, ... ] and so on. Once *n* = 4, the series has begun, and the repeated 4,2,1 values will occur exclusively. "
      ],
      "metadata": {
        "id": "NynwGAh_6lVZ"
      }
    },
    {
      "cell_type": "markdown",
      "source": [
        "# Explore: The 3n+1 Conjecture in Python\n"
      ],
      "metadata": {
        "id": "b1SsN7RBoLW0"
      }
    },
    {
      "cell_type": "markdown",
      "source": [
        "\n",
        "In order to explore this conjecture further, we have defined the following python function, **exploration(n)**, which takes a number *n*, and returns the resulting series in the form of a list based on the *3n+1 Conjecture*'s bounds. We can apply the rules of the *3n+1* conjecture to our defined function by using a for loop (to iterate x times and produce a sequence), as well as setting control statments (if statements) to change the value of *n* to either *n/2* or *3n+1* depending on if *n* is even or odd. \n",
        "\n",
        "So as of now, by taking in *n*, we have set the pace for a function which will iterate a lot (say 100 times), and change *n*'s value to *n/2* if *n* is even, or *3n+1* if *n* is odd. Each iteration, we will also append the newest computed value of *n* into a list to eventually return the first 100 indecies of the series created by the *3n+1* conjecture. \n"
      ],
      "metadata": {
        "id": "jND4uS4Q6il1"
      }
    },
    {
      "cell_type": "markdown",
      "source": [
        "**Defined Varibles**: \n",
        "  - *result_list* : a list varible to store the resulting series as we iterated and append more values of *n* to it.\n",
        "  - *i* : a varible to store which number iteration we are currently on, mainly used to keep track for use in the for loop\n",
        "  - *n* : a varible used to store the initial value of *n*, as well as store every value computed within each iteration thereafter. \n",
        "\n",
        "\n",
        "**Function Logic**: \n",
        "  - Create a function which takes in a number *n*, and outputs the series created by the *3n+1 Conjecture*. \n",
        "  - Iterate 100 times, with each iteration changing *n*'s value to either n/2 or 3n+1, depending on if it is even or odd, by using control statements. Then, append *n* to *result_list*. Do this until the series is completed."
      ],
      "metadata": {
        "id": "xGVm_X5s6gxY"
      }
    },
    {
      "cell_type": "code",
      "source": [
        "def exploration(n):\n",
        "  result_list = [n]  # define a list storage for our series result\n",
        "\n",
        "  # Loop 100 times in order to provide a sufficent amount of \n",
        "  # iterations to find the 4,2,1 loop in the resulting series\n",
        "  for i in range(1,100):\n",
        "\n",
        "    # 1. if n is even, divide by 2\n",
        "    # 2. if n is odd, n = 3n+1\n",
        "    if(n % 2 == 0):\n",
        "      n = n//2\n",
        "    else: \n",
        "      n = (3*n)+1\n",
        "\n",
        "    # 3. add the new n to our resulting series\n",
        "    result_list.append(n)\n",
        "\n",
        "  return result_list\n"
      ],
      "metadata": {
        "id": "wpAptPW-TWEI"
      },
      "execution_count": null,
      "outputs": []
    },
    {
      "cell_type": "code",
      "source": [
        "print((\"Resulting Series for {}:\").format(77)  , exploration(77))\n",
        "print((\"Resulting Series for {}:\").format(100) , exploration(100))\n",
        "print((\"Resulting Series for {}:\").format(92)  , exploration(92))\n",
        "print((\"Resulting Series for {}:\").format(591) , exploration(591))\n",
        "print((\"Resulting Series for {}:\").format(3)   , exploration(3))\n",
        "print((\"Resulting Series for {}:\").format(1)   , exploration(1))"
      ],
      "metadata": {
        "colab": {
          "base_uri": "https://localhost:8080/"
        },
        "id": "0psqM583YlEE",
        "outputId": "8076b708-a69e-4003-e87a-dc9d0c0f1afb"
      },
      "execution_count": null,
      "outputs": [
        {
          "output_type": "stream",
          "name": "stdout",
          "text": [
            "Resulting Series for 77: [77, 232, 116, 58, 29, 88, 44, 22, 11, 34, 17, 52, 26, 13, 40, 20, 10, 5, 16, 8, 4, 2, 1, 4, 2, 1, 4, 2, 1, 4, 2, 1, 4, 2, 1, 4, 2, 1, 4, 2, 1, 4, 2, 1, 4, 2, 1, 4, 2, 1, 4, 2, 1, 4, 2, 1, 4, 2, 1, 4, 2, 1, 4, 2, 1, 4, 2, 1, 4, 2, 1, 4, 2, 1, 4, 2, 1, 4, 2, 1, 4, 2, 1, 4, 2, 1, 4, 2, 1, 4, 2, 1, 4, 2, 1, 4, 2, 1, 4, 2]\n",
            "Resulting Series for 100: [100, 50, 25, 76, 38, 19, 58, 29, 88, 44, 22, 11, 34, 17, 52, 26, 13, 40, 20, 10, 5, 16, 8, 4, 2, 1, 4, 2, 1, 4, 2, 1, 4, 2, 1, 4, 2, 1, 4, 2, 1, 4, 2, 1, 4, 2, 1, 4, 2, 1, 4, 2, 1, 4, 2, 1, 4, 2, 1, 4, 2, 1, 4, 2, 1, 4, 2, 1, 4, 2, 1, 4, 2, 1, 4, 2, 1, 4, 2, 1, 4, 2, 1, 4, 2, 1, 4, 2, 1, 4, 2, 1, 4, 2, 1, 4, 2, 1, 4, 2]\n",
            "Resulting Series for 92: [92, 46, 23, 70, 35, 106, 53, 160, 80, 40, 20, 10, 5, 16, 8, 4, 2, 1, 4, 2, 1, 4, 2, 1, 4, 2, 1, 4, 2, 1, 4, 2, 1, 4, 2, 1, 4, 2, 1, 4, 2, 1, 4, 2, 1, 4, 2, 1, 4, 2, 1, 4, 2, 1, 4, 2, 1, 4, 2, 1, 4, 2, 1, 4, 2, 1, 4, 2, 1, 4, 2, 1, 4, 2, 1, 4, 2, 1, 4, 2, 1, 4, 2, 1, 4, 2, 1, 4, 2, 1, 4, 2, 1, 4, 2, 1, 4, 2, 1, 4]\n",
            "Resulting Series for 591: [591, 1774, 887, 2662, 1331, 3994, 1997, 5992, 2996, 1498, 749, 2248, 1124, 562, 281, 844, 422, 211, 634, 317, 952, 476, 238, 119, 358, 179, 538, 269, 808, 404, 202, 101, 304, 152, 76, 38, 19, 58, 29, 88, 44, 22, 11, 34, 17, 52, 26, 13, 40, 20, 10, 5, 16, 8, 4, 2, 1, 4, 2, 1, 4, 2, 1, 4, 2, 1, 4, 2, 1, 4, 2, 1, 4, 2, 1, 4, 2, 1, 4, 2, 1, 4, 2, 1, 4, 2, 1, 4, 2, 1, 4, 2, 1, 4, 2, 1, 4, 2, 1, 4]\n",
            "Resulting Series for 3: [3, 10, 5, 16, 8, 4, 2, 1, 4, 2, 1, 4, 2, 1, 4, 2, 1, 4, 2, 1, 4, 2, 1, 4, 2, 1, 4, 2, 1, 4, 2, 1, 4, 2, 1, 4, 2, 1, 4, 2, 1, 4, 2, 1, 4, 2, 1, 4, 2, 1, 4, 2, 1, 4, 2, 1, 4, 2, 1, 4, 2, 1, 4, 2, 1, 4, 2, 1, 4, 2, 1, 4, 2, 1, 4, 2, 1, 4, 2, 1, 4, 2, 1, 4, 2, 1, 4, 2, 1, 4, 2, 1, 4, 2, 1, 4, 2, 1, 4, 2]\n",
            "Resulting Series for 1: [1, 4, 2, 1, 4, 2, 1, 4, 2, 1, 4, 2, 1, 4, 2, 1, 4, 2, 1, 4, 2, 1, 4, 2, 1, 4, 2, 1, 4, 2, 1, 4, 2, 1, 4, 2, 1, 4, 2, 1, 4, 2, 1, 4, 2, 1, 4, 2, 1, 4, 2, 1, 4, 2, 1, 4, 2, 1, 4, 2, 1, 4, 2, 1, 4, 2, 1, 4, 2, 1, 4, 2, 1, 4, 2, 1, 4, 2, 1, 4, 2, 1, 4, 2, 1, 4, 2, 1, 4, 2, 1, 4, 2, 1, 4, 2, 1, 4, 2, 1]\n"
          ]
        }
      ]
    },
    {
      "cell_type": "markdown",
      "source": [
        "# Explore: Time Optimization"
      ],
      "metadata": {
        "id": "QRRkMIPks8T0"
      }
    },
    {
      "cell_type": "markdown",
      "source": [
        "Now that we have defined a way to compute a series defined by some *n* value, we can attempt to optimize the runtime of our **exploration(*n*)** to run faster. As we can see from the above result, the 4,2,1 repeats many, many times once our *n* reaches 4 for the first time. We can use our knowledge of the *3n+1 Conjecture* and this repitiion to optimize how long it takes our code find the series.  \n",
        "\n",
        "Once *n=1*, we know that the next value of *n* will again be 4, then 2, then 1 again. By using this, we can stop iterating early once we know the repeated 4,2,1 is beginning. One way to do this is to add a control statement (if statement) for if *n* equals 1, and to then exit the program. This means that the repeated 4,2,1 will not be visualized in the resulting series printed, and the series will end at 1 consistently. \n",
        "\n",
        "We have also increased the iteration amount from 100 to 10000000, in order to increase the accuracy for larger numbers, as we are no longer printing out the repeated 4,2,1 sub-series.\n"
      ],
      "metadata": {
        "id": "4XBCoDIo6dYX"
      }
    },
    {
      "cell_type": "code",
      "source": [
        "def exploration_faster(n):\n",
        "  result_list = [n]  # define a list storage for our series result\n",
        "\n",
        "  # Loop 1000 times in order to provide a sufficent amount of \n",
        "  # iterations to find the 4,2,1 loop in the resulting series\n",
        "  for i in range(1,1000000):\n",
        "\n",
        "    # 1. if n is even, divide by 2\n",
        "    # 2. if n is odd, n = 3n+1\n",
        "    if(n % 2 == 0):\n",
        "      n = n//2\n",
        "    else: \n",
        "      n = (3*n)+1\n",
        "\n",
        "    # 3. add the new n to our resulting series\n",
        "    result_list.append(n)\n",
        "\n",
        "    # 4. check if 4,2,1 is starting to occur repeatedly in the resulting series\n",
        "    if(n == 1):\n",
        "      print( (\"Exited program at iteration {} as the 4,2,1 loop is starting\").format(i) )\n",
        "      return (result_list)\n",
        "\n",
        "  return result_list"
      ],
      "metadata": {
        "id": "X4JiOjJ4tCgW"
      },
      "execution_count": null,
      "outputs": []
    },
    {
      "cell_type": "code",
      "source": [
        "print((\"Resulting Series for {}:\").format(77)  , exploration_faster(77))\n",
        "print('\\n') \n",
        "print((\"Resulting Series for {}:\").format(100) , exploration_faster(100))\n",
        "print('\\n') \n",
        "print((\"Resulting Series for {}:\").format(92)  , exploration_faster(92))\n",
        "print('\\n') \n",
        "print((\"Resulting Series for {}:\").format(591) , exploration_faster(591))\n",
        "print('\\n') \n",
        "print((\"Resulting Series for {}:\").format(3)   , exploration_faster(3))"
      ],
      "metadata": {
        "colab": {
          "base_uri": "https://localhost:8080/"
        },
        "id": "mzVBEHTyvW9Y",
        "outputId": "01f8cace-d33a-479e-e3eb-c6fe59184abf"
      },
      "execution_count": null,
      "outputs": [
        {
          "output_type": "stream",
          "name": "stdout",
          "text": [
            "Exited program at iteration 22 as the 4,2,1 loop is starting\n",
            "Resulting Series for 77: [77, 232, 116, 58, 29, 88, 44, 22, 11, 34, 17, 52, 26, 13, 40, 20, 10, 5, 16, 8, 4, 2, 1]\n",
            "\n",
            "\n",
            "Exited program at iteration 25 as the 4,2,1 loop is starting\n",
            "Resulting Series for 100: [100, 50, 25, 76, 38, 19, 58, 29, 88, 44, 22, 11, 34, 17, 52, 26, 13, 40, 20, 10, 5, 16, 8, 4, 2, 1]\n",
            "\n",
            "\n",
            "Exited program at iteration 17 as the 4,2,1 loop is starting\n",
            "Resulting Series for 92: [92, 46, 23, 70, 35, 106, 53, 160, 80, 40, 20, 10, 5, 16, 8, 4, 2, 1]\n",
            "\n",
            "\n",
            "Exited program at iteration 56 as the 4,2,1 loop is starting\n",
            "Resulting Series for 591: [591, 1774, 887, 2662, 1331, 3994, 1997, 5992, 2996, 1498, 749, 2248, 1124, 562, 281, 844, 422, 211, 634, 317, 952, 476, 238, 119, 358, 179, 538, 269, 808, 404, 202, 101, 304, 152, 76, 38, 19, 58, 29, 88, 44, 22, 11, 34, 17, 52, 26, 13, 40, 20, 10, 5, 16, 8, 4, 2, 1]\n",
            "\n",
            "\n",
            "Exited program at iteration 7 as the 4,2,1 loop is starting\n",
            "Resulting Series for 3: [3, 10, 5, 16, 8, 4, 2, 1]\n"
          ]
        }
      ]
    },
    {
      "cell_type": "markdown",
      "source": [
        "The optimized time is shown below, compared to the original time before we had written a way to stop the iteration early on an occurence of 1."
      ],
      "metadata": {
        "id": "Xlg2ZTP8yd6W"
      }
    },
    {
      "cell_type": "code",
      "source": [
        "print(\"Without optimization\")\n",
        "%timeit exploration(77)\n",
        "%timeit exploration(100)\n",
        "%timeit exploration(92)\n",
        "%timeit exploration(591)\n",
        "%timeit exploration(3)\n",
        "print(\"\\n\")\n",
        "print(\"With optimization\")\n",
        "%timeit exploration_faster(77)\n",
        "%timeit exploration_faster(100)\n",
        "%timeit exploration_faster(92)\n",
        "%timeit exploration_faster(591)\n",
        "%timeit exploration_faster(3)"
      ],
      "metadata": {
        "colab": {
          "base_uri": "https://localhost:8080/"
        },
        "id": "zYAs9HbUx-XK",
        "outputId": "86526008-c7bc-457e-e583-fb3c79c77113"
      },
      "execution_count": null,
      "outputs": [
        {
          "output_type": "stream",
          "name": "stdout",
          "text": [
            "Without optimization\n",
            "100000 loops, best of 5: 18 µs per loop\n",
            "100000 loops, best of 5: 17.9 µs per loop\n",
            "100000 loops, best of 5: 17.9 µs per loop\n",
            "100000 loops, best of 5: 19.1 µs per loop\n",
            "100000 loops, best of 5: 18 µs per loop\n",
            "\n",
            "\n",
            "With optimization\n",
            "100000 loops, best of 5: 5.04 µs per loop\n",
            "100000 loops, best of 5: 5.58 µs per loop\n",
            "100000 loops, best of 5: 3.94 µs per loop\n",
            "100000 loops, best of 5: 12.9 µs per loop\n",
            "The slowest run took 4.28 times longer than the fastest. This could mean that an intermediate result is being cached.\n",
            "1000000 loops, best of 5: 1.92 µs per loop\n"
          ]
        }
      ]
    },
    {
      "cell_type": "markdown",
      "source": [
        "# Explore: Allowing Negative Numbers"
      ],
      "metadata": {
        "id": "kizelu1mEv4X"
      }
    },
    {
      "cell_type": "markdown",
      "source": [
        "What would happen if we were to allow negative numbers into our python version of the *3n+1 Conjecture*? As of now, we currently have only been testing *n* > 0 starting values. Let's try to find the series of a negative number *n*.\n",
        "\n",
        "Just based on conjecture, we could assume that negative numbers do not work well with our version of the *3n+1 Conjecture*, as *3(-n)+1* does not result in the same number as *3n+1*."
      ],
      "metadata": {
        "id": "KnYzXURgE0lP"
      }
    },
    {
      "cell_type": "code",
      "source": [
        "print((\"Resulting Series for {}:\").format(-3)  , exploration_faster(-3))"
      ],
      "metadata": {
        "colab": {
          "base_uri": "https://localhost:8080/"
        },
        "id": "_Y2szoLfH26V",
        "outputId": "4d41c975-bda2-4529-f1a7-2a5f0a3a9abb"
      },
      "execution_count": null,
      "outputs": [
        {
          "output_type": "stream",
          "name": "stderr",
          "text": [
            "IOPub data rate exceeded.\n",
            "The notebook server will temporarily stop sending output\n",
            "to the client in order to avoid crashing it.\n",
            "To change this limit, set the config variable\n",
            "`--NotebookApp.iopub_data_rate_limit`.\n",
            "\n",
            "Current values:\n",
            "NotebookApp.iopub_data_rate_limit=1000000.0 (bytes/sec)\n",
            "NotebookApp.rate_limit_window=3.0 (secs)\n",
            "\n"
          ]
        }
      ]
    },
    {
      "cell_type": "markdown",
      "source": [
        "We can see that that didn't work well. This means that our python function does not handle negative numbers safely. We can tackle this issue in many ways, possible ways including:\n",
        "- Creating a safe way to exit the function if a negative *n* is entered.\n",
        "- Adapting the function to use *3n-1* instead of *3n+1*.\n",
        "- Using the absolute value of the *n* value entered to avoid the issue entirely.\n",
        "- Change the end-early option to \"if *n* == -1\", instead of 1\n",
        "\n",
        "Let's adopt the second and fourth options, as it seems the most negative-friendly. To do this, we need a new control statement for if *n* is negative. If *n* is ever negative, we should impliment our new ideas. Our new bit of code will instead go off of the *3n-1 Conjecture*, and the *3n-1* should provide the same experience for neagtive *n* values as the *3n+1* did for positive *n* values."
      ],
      "metadata": {
        "id": "XnvgUbLZIBsV"
      }
    },
    {
      "cell_type": "code",
      "source": [
        "def exploration_neg(n):\n",
        "  result_list = [n]\n",
        "\n",
        "  if(n < 0):  # n is negative, use this logic!\n",
        "    for i in range(1,1000000):\n",
        "      if(n % 2 == 0):   # if n is even, divide by 2\n",
        "        n = n//2\n",
        "      else:             # if n is odd, n = 3n-1\n",
        "        n = (3*n)-1\n",
        "      result_list.append(n)\n",
        "\n",
        "      # check if -4, -2, -1 is starting to occur repeatedly in the resulting series\n",
        "      if(n == -1):\n",
        "        print( (\"Exited program at iteration {} as the -4, -2, -1 loop is starting\").format(i) )\n",
        "        return result_list\n",
        "\n",
        "  else:   # n is positive, use this logic!\n",
        "    for i in range(1,1000000):\n",
        "      if(n % 2 == 0):   # if n is even, divide by 2\n",
        "        n = n//2\n",
        "      else:             # if n is odd, n = 3n+1\n",
        "        n = (3*n)+1\n",
        "      result_list.append(n)\n",
        "\n",
        "      # check if 4,2,1 is starting to occur repeatedly in the resulting series\n",
        "      if(n == 1):\n",
        "        print( (\"Exited program at iteration {} as the 4,2,1 loop is starting\").format(i) )\n",
        "        return result_list\n",
        "\n",
        "  return result_list"
      ],
      "metadata": {
        "id": "515SiqxFJbFz"
      },
      "execution_count": null,
      "outputs": []
    },
    {
      "cell_type": "code",
      "source": [
        "print((\"Resulting Series for {}:\").format(-3)  , exploration_neg(-3))\n",
        "print('\\n')\n",
        "print((\"Resulting Series for {}:\").format(3)  , exploration_neg(3))"
      ],
      "metadata": {
        "colab": {
          "base_uri": "https://localhost:8080/"
        },
        "id": "YLfNIdXyKiXV",
        "outputId": "eeb2cf7a-c076-47b1-e83d-53c94b8489db"
      },
      "execution_count": null,
      "outputs": [
        {
          "output_type": "stream",
          "name": "stdout",
          "text": [
            "Exited program at iteration 7 as the -4, -2, -1 loop is starting\n",
            "Resulting Series for -3: [-3, -10, -5, -16, -8, -4, -2, -1]\n",
            "\n",
            "\n",
            "Exited program at iteration 7 as the 4,2,1 loop is starting\n",
            "Resulting Series for 3: [3, 10, 5, 16, 8, 4, 2, 1]\n"
          ]
        }
      ]
    },
    {
      "cell_type": "markdown",
      "source": [
        "We can see that now our python version of the *3n+1 Conjecture* accounts for negative numbers, as well as retaining the ability to use positive numbers. The simple switch from *3n+1* to *3n-1* allowed for the same odd repetition of 4,2,1 to occur, but now shows itself as -4,-2,-1. \n",
        "\n",
        "Other than switching \"+1\" occurences in our code to now \"-1\" (that is, if *n* is negative), there are no functional differences in our python version of the *3n+1 Conjecture* between the logic to handle a positive *n* vs. a negative *n* value."
      ],
      "metadata": {
        "id": "-RgaGBiYLby9"
      }
    },
    {
      "cell_type": "markdown",
      "source": [
        "Both the *3n+1* and *3n-1 Conjectures* do not accept *n* = 0."
      ],
      "metadata": {
        "id": "z5En8sTjO7zC"
      }
    },
    {
      "cell_type": "markdown",
      "source": [
        "# Explore: Dropping Time"
      ],
      "metadata": {
        "id": "EJXTq3GL6uME"
      }
    },
    {
      "cell_type": "markdown",
      "source": [
        "The *dropping time* ( σ(n) ) represents the amount of time it takes for the sequence starting at *n* to drop to a number smaller than *n*'s orinigal value. \n",
        "\n",
        "Let us consider the series created by *n* = 17. σ(17) = 3, as the resulting series is [ 17, 52, 26, 13, 27, 40, 20, 10, 5, 16, 8, 4, 2, 1, .... ], and since the 3rd value of *n* is smaller than the starting value of *n*. We say 17 takes three steps to drop, so the dropping time is 3. \n",
        "\n",
        "Since *n* = 1 results in *n* = 4, and *n* can't equal 0, the dropping time of 1 is undefined. \n",
        "\n",
        "In later sections, we'll explore the connections between dropping time and n in different mod forms."
      ],
      "metadata": {
        "id": "B-ILE4ZH6_LE"
      }
    },
    {
      "cell_type": "markdown",
      "source": [
        "**Defined Varibles**:\n",
        "- *og_n* : a safe place to store the original value of *n* to compare to each iterative value of *n* to find the drop occurence\n",
        "\n",
        "**Function Logic**\n",
        "- Create a function which takes in a number n, and outputs the amount of iterations it takes for *n* to drop.\n",
        "- Iterate 1000000 times, with each iteration changing n's value to either n/2 or 3n+1, depending on if it is even or odd by using control statements. Then, append n to result_list. Do this until the series is completed.\n",
        "- Each iteration, compare *n* to *og_n*, and if *n* is a smaller number, then return the number iteration (*i*) we are on.\n",
        "- If there is no drop by the 1000000th iteration, return 0, which will stand for an undefined drop time."
      ],
      "metadata": {
        "id": "FYApN8OSArpW"
      }
    },
    {
      "cell_type": "code",
      "source": [
        "def exploration_dt(n):\n",
        "  result_list = [n]  # define a list storage for our series result\n",
        "  og_n = n           # store n's original value somewhere safe\n",
        "\n",
        "  # Loop 100 times in order to provide a sufficent amount of \n",
        "  # iterations to find the 4,2,1 loop in the resulting series\n",
        "  for i in range(1,1000000):\n",
        "\n",
        "    # 1. if n is even, divide by 2\n",
        "    # 2. if n is odd, n = 3n+1\n",
        "    if(n % 2 == 0):\n",
        "      n = n//2\n",
        "    else: \n",
        "      n = (3*n)+1\n",
        "\n",
        "    # 3. add the new n to our resulting series\n",
        "    result_list.append(n)\n",
        "\n",
        "    # 4. Check to see if drop has been reached by comparing n to its original value\n",
        "    if(og_n > n):\n",
        "      return i\n",
        "\n",
        "  return 0"
      ],
      "metadata": {
        "id": "AsXHrdk56-5S"
      },
      "execution_count": null,
      "outputs": []
    },
    {
      "cell_type": "markdown",
      "source": [
        ""
      ],
      "metadata": {
        "id": "9otFgHPtnRXA"
      }
    },
    {
      "cell_type": "code",
      "source": [
        "print((\"Drop time for {}:\").format(17)  , exploration_dt(17))\n",
        "print((\"Drop time for {}:\").format(77)  , exploration_dt(77))\n",
        "print((\"Drop time for {}:\").format(100) , exploration_dt(100))\n",
        "print((\"Drop time for {}:\").format(92)  , exploration_dt(92))\n",
        "print((\"Drop time for {}:\").format(591) , exploration_dt(591))\n",
        "print((\"Drop time for {}:\").format(3)   , exploration_dt(3))"
      ],
      "metadata": {
        "colab": {
          "base_uri": "https://localhost:8080/"
        },
        "id": "3h4QDkPF_Wp8",
        "outputId": "37428ce4-2e22-4d1a-9c8b-53f80a37725e"
      },
      "execution_count": null,
      "outputs": [
        {
          "output_type": "stream",
          "name": "stdout",
          "text": [
            "Drop time for 17: 3\n",
            "Drop time for 77: 3\n",
            "Drop time for 100: 1\n",
            "Drop time for 92: 1\n",
            "Drop time for 591: 13\n",
            "Drop time for 3: 6\n"
          ]
        }
      ]
    },
    {
      "cell_type": "markdown",
      "source": [
        "As we can see from the above results, 17 has a drop time of 3, as explained earlier. \n",
        "\n",
        "We can also see from the results, that if *n* begins as an even number, the drop time is always 1, as an even *n* will iterate to *n* = *n/2*. Odd starting values, however, will have a larger drop time, as *n*'s value grows significantly on an odd iteration. "
      ],
      "metadata": {
        "id": "i_x7pOwdCNn7"
      }
    },
    {
      "cell_type": "markdown",
      "source": [
        "# Explore: Connections between dropping time and n mod 8, and n mod 16, etc."
      ],
      "metadata": {
        "id": "UE_gcDjSEFP9"
      }
    },
    {
      "cell_type": "markdown",
      "source": [
        "In this section, we will be exploring drop times for n mod 8 and n mod 16. We hypothesized that within the sequence of drop times for n = x mod 8, every other would belong to wither n = x mod 16 or n = x+8 mod 16. For example, if n = 3 mod 8, the drop time sequence would show the drop times for 3, 11, 19, 27 etc., we can take note that 3 and 19 are within n = 3 mod 16, and 11, and 27 are within n = 11 mod 16.\n",
        "\n",
        "Note: Drop time for when n equals any even number mod 8 or 16 is 1 since they are even numbers and conjecture states to immediately divide them by half."
      ],
      "metadata": {
        "id": "zvfHUXyRlIDT"
      }
    },
    {
      "cell_type": "code",
      "source": [
        "# runs of n = 1 mod 8; n = 1 mod 16 every other time\n",
        "for i in range(1,90,8):\n",
        "  print((\"Drop time for {}:\").format(i)  , exploration_dt(i))\n",
        "print(\"\\n\")\n",
        "\n",
        "# runs of n = 3 mod 8; n = 3 mod 16 every other time\n",
        "for i in range(3,172,8):\n",
        "  print((\"Drop time for {}:\").format(i)  , exploration_dt(i))\n",
        "print(\"\\n\")\n",
        "\n",
        "# runs of n = 5 mod 8; n = 5 mod 16 every other time\n",
        "for i in range(5,174,8):\n",
        "  print((\"Drop time for {}:\").format(i)  , exploration_dt(i))\n",
        "print(\"\\n\")\n",
        "\n",
        "# runs of n = 7 mod 8; n = 7 mod 16 every other time\n",
        "for i in range(7,176,8):\n",
        "  print((\"Drop time for {}:\").format(i)  , exploration_dt(i))\n",
        "print(\"\\n\")\n",
        "\n",
        "# runs of n = 1 mod 8; n = 1 mod 16 every other time\n",
        "for i in range(1,98,16):\n",
        "  print((\"Drop time for {}:\").format(i)  , exploration_dt(i))\n",
        "print(\"\\n\")\n",
        "\n",
        "# runs of n = 3 mod 8; n = 3 mod 16 every other time\n",
        "for i in range(3,184,16):\n",
        "  print((\"Drop time for {}:\").format(i)  , exploration_dt(i))\n",
        "print(\"\\n\")\n",
        "\n",
        "# runs of n = 5 mod 8; n = 5 mod 16 every other time\n",
        "for i in range(5,190,16):\n",
        "  print((\"Drop time for {}:\").format(i)  , exploration_dt(i))\n",
        "print(\"\\n\")\n",
        "\n",
        "# runs of n = 7 mod 8; n = 7 mod 16 every other time\n",
        "for i in range(7,192,16):\n",
        "  print((\"Drop time for {}:\").format(i)  , exploration_dt(i))\n",
        "print(\"\\n\") \n",
        "\n",
        "# runs of n = 9 mod 8; n = 9 mod 16 every other time\n",
        "for i in range(9,194,16):\n",
        "  print((\"Drop time for {}:\").format(i)  , exploration_dt(i))\n",
        "print(\"\\n\") \n",
        "\n",
        "# runs of n = 11 mod 16 every other time\n",
        "for i in range(11,476,16):\n",
        "  print((\"Drop time for {}:\").format(i)  , exploration_dt(i))\n",
        "print(\"\\n\")\n",
        "\n",
        "# runs of n = 13 mod 16 every other time\n",
        "for i in range(13,182,16):\n",
        "  print((\"Drop time for {}:\").format(i)  , exploration_dt(i))\n",
        "print(\"\\n\")\n",
        "\n",
        "# runs of n = 15 mod 16 every other time\n",
        "for i in range(15,182,16):\n",
        "  print((\"Drop time for {}:\").format(i)  , exploration_dt(i))\n",
        "print(\"\\n\")\n"
      ],
      "metadata": {
        "colab": {
          "base_uri": "https://localhost:8080/"
        },
        "id": "-fdSmiTTkXa3",
        "outputId": "2d9af7f1-7d6d-4d3d-a7c2-62c22eed6006"
      },
      "execution_count": null,
      "outputs": [
        {
          "output_type": "stream",
          "name": "stdout",
          "text": [
            "Drop time for 1: 0\n",
            "Drop time for 9: 3\n",
            "Drop time for 17: 3\n",
            "Drop time for 25: 3\n",
            "Drop time for 33: 3\n",
            "Drop time for 41: 3\n",
            "Drop time for 49: 3\n",
            "Drop time for 57: 3\n",
            "Drop time for 65: 3\n",
            "Drop time for 73: 3\n",
            "Drop time for 81: 3\n",
            "Drop time for 89: 3\n",
            "\n",
            "\n",
            "Drop time for 1: 0\n",
            "Drop time for 9: 3\n",
            "Drop time for 17: 3\n",
            "Drop time for 25: 3\n",
            "Drop time for 33: 3\n",
            "Drop time for 41: 3\n",
            "Drop time for 49: 3\n",
            "Drop time for 57: 3\n",
            "Drop time for 65: 3\n",
            "Drop time for 73: 3\n",
            "Drop time for 81: 3\n",
            "Drop time for 89: 3\n",
            "\n",
            "\n",
            "Drop time for 1: 0\n",
            "Drop time for 9: 3\n",
            "Drop time for 17: 3\n",
            "Drop time for 25: 3\n",
            "Drop time for 33: 3\n",
            "Drop time for 41: 3\n",
            "Drop time for 49: 3\n",
            "Drop time for 57: 3\n",
            "Drop time for 65: 3\n",
            "Drop time for 73: 3\n",
            "Drop time for 81: 3\n",
            "Drop time for 89: 3\n",
            "\n",
            "\n",
            "Drop time for 1: 0\n",
            "Drop time for 17: 3\n",
            "Drop time for 33: 3\n",
            "Drop time for 49: 3\n",
            "Drop time for 65: 3\n",
            "Drop time for 81: 3\n",
            "Drop time for 97: 3\n",
            "\n",
            "\n",
            "Drop time for 3: 6\n",
            "Drop time for 19: 6\n",
            "Drop time for 35: 6\n",
            "Drop time for 51: 6\n",
            "Drop time for 67: 6\n",
            "Drop time for 83: 6\n",
            "Drop time for 99: 6\n",
            "Drop time for 115: 6\n",
            "Drop time for 131: 6\n",
            "Drop time for 147: 6\n",
            "Drop time for 163: 6\n",
            "Drop time for 179: 6\n",
            "\n",
            "\n",
            "Drop time for 5: 3\n",
            "Drop time for 21: 3\n",
            "Drop time for 37: 3\n",
            "Drop time for 53: 3\n",
            "Drop time for 69: 3\n",
            "Drop time for 85: 3\n",
            "Drop time for 101: 3\n",
            "Drop time for 117: 3\n",
            "Drop time for 133: 3\n",
            "Drop time for 149: 3\n",
            "Drop time for 165: 3\n",
            "Drop time for 181: 3\n",
            "\n",
            "\n",
            "Drop time for 7: 11\n",
            "Drop time for 23: 8\n",
            "Drop time for 39: 13\n",
            "Drop time for 55: 8\n",
            "Drop time for 71: 83\n",
            "Drop time for 87: 8\n",
            "Drop time for 103: 68\n",
            "Drop time for 119: 8\n",
            "Drop time for 135: 11\n",
            "Drop time for 151: 8\n",
            "Drop time for 167: 47\n",
            "Drop time for 183: 8\n",
            "\n",
            "\n",
            "Drop time for 9: 3\n",
            "Drop time for 25: 3\n",
            "Drop time for 41: 3\n",
            "Drop time for 57: 3\n",
            "Drop time for 73: 3\n",
            "Drop time for 89: 3\n",
            "Drop time for 105: 3\n",
            "Drop time for 121: 3\n",
            "Drop time for 137: 3\n",
            "Drop time for 153: 3\n",
            "Drop time for 169: 3\n",
            "Drop time for 185: 3\n",
            "\n",
            "\n",
            "Drop time for 11: 8\n",
            "Drop time for 27: 96\n",
            "Drop time for 43: 8\n",
            "Drop time for 59: 11\n",
            "Drop time for 75: 8\n",
            "Drop time for 91: 73\n",
            "Drop time for 107: 8\n",
            "Drop time for 123: 13\n",
            "Drop time for 139: 8\n",
            "Drop time for 155: 65\n",
            "Drop time for 171: 8\n",
            "Drop time for 187: 11\n",
            "Drop time for 203: 8\n",
            "Drop time for 219: 13\n",
            "Drop time for 235: 8\n",
            "Drop time for 251: 44\n",
            "Drop time for 267: 8\n",
            "Drop time for 283: 39\n",
            "Drop time for 299: 8\n",
            "Drop time for 315: 11\n",
            "Drop time for 331: 8\n",
            "Drop time for 347: 16\n",
            "Drop time for 363: 8\n",
            "Drop time for 379: 13\n",
            "Drop time for 395: 8\n",
            "Drop time for 411: 24\n",
            "Drop time for 427: 8\n",
            "Drop time for 443: 11\n",
            "Drop time for 459: 8\n",
            "Drop time for 475: 13\n",
            "\n",
            "\n",
            "Drop time for 13: 3\n",
            "Drop time for 29: 3\n",
            "Drop time for 45: 3\n",
            "Drop time for 61: 3\n",
            "Drop time for 77: 3\n",
            "Drop time for 93: 3\n",
            "Drop time for 109: 3\n",
            "Drop time for 125: 3\n",
            "Drop time for 141: 3\n",
            "Drop time for 157: 3\n",
            "Drop time for 173: 3\n",
            "\n",
            "\n",
            "Drop time for 15: 11\n",
            "Drop time for 31: 91\n",
            "Drop time for 47: 88\n",
            "Drop time for 63: 88\n",
            "Drop time for 79: 13\n",
            "Drop time for 95: 13\n",
            "Drop time for 111: 50\n",
            "Drop time for 127: 24\n",
            "Drop time for 143: 11\n",
            "Drop time for 159: 34\n",
            "Drop time for 175: 13\n",
            "\n",
            "\n"
          ]
        }
      ]
    },
    {
      "cell_type": "markdown",
      "source": [
        "## Results\n",
        "When n equals 1 or 5 mod 8, the drop time (applying the conjecture to n) is 3 everytime; similarly when n equals 1, 5, 9, or 13 mod 16 (which is equal to 1 and 5 mod 8). When n equals 15 mod 16, drop times don't seem to have a pattern (see last run in code cell above). When n equals 11 mod 16, every other drop time in the sequence is 8, though the rest don't have a pattern (see second to last run in code cell above). Another example of this is how very other drop time in the sequence of n equals 3 mod 8 is 6, which relates to how every drop time in the sequence of n equals 3 mod 16 is 6."
      ],
      "metadata": {
        "id": "mx48rmm-LQPj"
      }
    },
    {
      "cell_type": "markdown",
      "source": [
        "#Conclusion"
      ],
      "metadata": {
        "id": "LALyYpu2SeSN"
      }
    },
    {
      "cell_type": "markdown",
      "source": [
        "Our exploration of the *3n+1 Conjecture* has shed light on many aspects of this bizzare sequence. As we explored, we created multiple implimentations of the *3n+1 Conjecture*, as many avenues of our exploration required new functionality. Some of our implimentations built upon others, while many are standalone and simply build off the base implimentation.\n"
      ],
      "metadata": {
        "id": "ztKMNV0ue2Ha"
      }
    },
    {
      "cell_type": "markdown",
      "source": [
        "Defining the varibles and functionality of the conjecture has helped to show how the unique sequence is formed. Our implimentation of the base *3n+1 Conjecture* is defined as such. \n",
        "    \n",
        "    exploration(n)"
      ],
      "metadata": {
        "id": "SovGnkyNe5Nn"
      }
    },
    {
      "cell_type": "markdown",
      "source": [
        "While exploring an optimum runtime for the conjecture has pulled the curtain on how certain *n* values can affect the speed of the output, whether positivly or negativly. Our solution to speed up the function was to simply check when the repeated [4,2,1] subsequence began occuring, and to end the function with the currently created result sequence, as any other value after *1* would be 4, 2, or 1. The implimentation of the time-optimized version of the *3n+1 Conjecture* is defined as such.\n",
        "\n",
        "    exploration_faster(n)"
      ],
      "metadata": {
        "id": "uMIKv7jVe8SN"
      }
    },
    {
      "cell_type": "markdown",
      "source": [
        "Exploring the issue of negative *n* inputs was a challenge, as the *3n+1 Conjecture* is built for positive *n* values. The solution developed resulted in another version of the *3n+1 Conjecture* dubbed the \"*3n-1 Conjecture*\", which, given a negative *n* value, will result in a series similarly to thew *3n+1 Conjecture*, expect replacing odd *n* values with *3n-1* as opposed to *3n+1*. By adding a control statemnt to determine which conjecture to deploy, a single function is capable of running our new dual-conjectures. Results found that the sequences output by the *3n-1 Conjecture* are the same as the *3n+1 Conjecture*, aside from all the iterations of *n* being negative instead of positive. The implimentation of both the *3n+1* and *3n-1 Conjectures* are defined in a single function defined as such.\n",
        "\n",
        "    exploration_neg(n)"
      ],
      "metadata": {
        "id": "ZmoAPYGQe-1D"
      }
    },
    {
      "cell_type": "markdown",
      "source": [
        "Developing a dropping time dependant on an inital *n* value was simple to create, yet challenging to parse and explore. To impliment the drop time, we added a control statment to check if the current iteration of *n* was a lower value that the initial value of *n* passed to the function, and returning the dropping time as opposed to the *3n+1 Conjecture*'s resulting sequence. It was discovered that initally even *n* values would always have a dropping time of 1, while initally odd *n* values would have varying dropping times greater than 1. \n",
        "\n",
        "**insert mod stuff here i dunno it** \n",
        "\n",
        "The \"dropping time calculator\" version of the *3n+1 Conjecture* is defined as such.\n",
        "\n",
        "    exploration_dt(n)\n"
      ],
      "metadata": {
        "id": "yuLirzxoQave"
      }
    },
    {
      "cell_type": "markdown",
      "source": [
        "To wrap it all up, the *3n+1 Conjecture* is a simple function with a bizzare result. There are many aspects to this conjecture to explore, and while we understnad much of the conjecture as it stands, there is always more room for exploration when it comes to such an oddity of mathmatics. "
      ],
      "metadata": {
        "id": "dRrKMKKMfAis"
      }
    }
  ]
}