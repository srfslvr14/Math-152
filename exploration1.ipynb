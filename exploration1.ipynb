{
  "nbformat": 4,
  "nbformat_minor": 0,
  "metadata": {
    "colab": {
      "name": "exploration1.ipynb",
      "provenance": [],
      "collapsed_sections": [
        "TzHFL_n0SRxP",
        "b1SsN7RBoLW0",
        "kizelu1mEv4X",
        "EJXTq3GL6uME"
      ],
      "authorship_tag": "ABX9TyNAYjpD0+2XFhzdunDqm+Rm",
      "include_colab_link": true
    },
    "kernelspec": {
      "name": "python3",
      "display_name": "Python 3"
    },
    "language_info": {
      "name": "python"
    }
  },
  "cells": [
    {
      "cell_type": "markdown",
      "metadata": {
        "id": "view-in-github",
        "colab_type": "text"
      },
      "source": [
        "<a href=\"https://colab.research.google.com/github/srfslvr14/Math-152/blob/main/exploration1.ipynb\" target=\"_parent\"><img src=\"https://colab.research.google.com/assets/colab-badge.svg\" alt=\"Open In Colab\"/></a>"
      ]
    },
    {
      "cell_type": "markdown",
      "source": [
        "# Exploration 1 : *The 3n+1 Conjecture.*\n"
      ],
      "metadata": {
        "id": "TzHFL_n0SRxP"
      }
    },
    {
      "cell_type": "markdown",
      "source": [
        "\n",
        "In this notebook, we will be exploring the fabeled **3n+1 conjecture**. This conjecture states that, starting with some number *n*, we can create a series by following two rules.\n",
        "\n",
        "1. If *n* is an even number, divide it by 2\n",
        "2. if *n* is an odd number, have *n = 3n+1*\n",
        "\n",
        "By following these rules, we will result in a series containing each iteration and value of *n* as we progress, and, by the odd properties of this conjecture, the series will inveittibly begin repeating 4,2,1 over and over again. This is because 4 is even, so *n* = (4/2) = 2, 2 is even, so *n* = (2/2) = 1, and since 1 is odd, *n* = (3x1+1) = 4, and thus we arrive back at *n* = 4.\n",
        "\n",
        "For example, if we take *n* = 10, we find the resulting series: [ 10, 5, 16, 8, 4, 2, 1, 4, 2, 1, 4, 2, 1, 4, 2, 1, ... ] and so on. Once *n* = 4, the series has inevitibly begun, and the repeated 4,2,1 values will occur exclusivly. "
      ],
      "metadata": {
        "id": "NynwGAh_6lVZ"
      }
    },
    {
      "cell_type": "markdown",
      "source": [
        "# Explore: The 3n+1 Conjecture in Python\n"
      ],
      "metadata": {
        "id": "b1SsN7RBoLW0"
      }
    },
    {
      "cell_type": "markdown",
      "source": [
        "\n",
        "In order to explore this conjecture further, we have defined the following python function, **exploration(n)**, which takes a number *n*, and returns the resulting series in the form of a list based on the *3n+1 Conjecture*'s bounds. We can easily apply the rules of the *3n+1* conjecture to our defined function, by using a for loop to iterate a lot, and by setting control statments (if statements) to change the value of *n* to either *n/2* or *3n+1* depending on if *n* is even or odd. \n",
        "\n",
        "So as of now, by taking in *n*, we have set the pace for a function which will iterate a lot (say 100 times), and change *n*'s value to *n/2* if *n* is even, or *3n+1* if *n* is odd. Each iteration, we will also append the newest computed value of *n* into a list to eventually return the first 100 indecies of the series created by the *3n+1* conjecture. \n"
      ],
      "metadata": {
        "id": "jND4uS4Q6il1"
      }
    },
    {
      "cell_type": "markdown",
      "source": [
        "**Defined Varibles**: \n",
        "  - *result_list* : a list varible to store the resulting series as we iterated and append more values of *n* to it.\n",
        "  - *i* : a varible to store which number iteration we are currently on, mainly used to keep track for use in the for loop\n",
        "  - *n* : a varible used to store the initial value of *n*, as well as store every value computed within each iteration thereafter. \n",
        "\n",
        "\n",
        "**Function Logic**: \n",
        "  - Create a function which takes in a number *n*, and outputs the series created by the *3n+1 Conjecture*. \n",
        "  - Iterate 100 times, with each iteration changing *n*'s value to either n/2 or 3n+1, depending on if it is even or odd, by using control statements. Then, append *n* to *result_list*. Do this until the series is completed."
      ],
      "metadata": {
        "id": "xGVm_X5s6gxY"
      }
    },
    {
      "cell_type": "code",
      "source": [
        "def exploration(n):\n",
        "  result_list = [n]  # define a list storage for our series result\n",
        "\n",
        "  # Loop 100 times in order to provide a sufficent amount of \n",
        "  # iterations to find the 4,2,1 loop in the resulting series\n",
        "  for i in range(1,100):\n",
        "\n",
        "    # 1. if n is even, divide by 2\n",
        "    # 2. if n is odd, n = 3n+1\n",
        "    if(n % 2 == 0):\n",
        "      n = n//2\n",
        "    else: \n",
        "      n = (3*n)+1\n",
        "\n",
        "    # 3. add the new n to our resulting series\n",
        "    result_list.append(n)\n",
        "\n",
        "  return result_list\n"
      ],
      "metadata": {
        "id": "wpAptPW-TWEI"
      },
      "execution_count": 9,
      "outputs": []
    },
    {
      "cell_type": "code",
      "source": [
        "print((\"Resulting Series for {}:\").format(77)  , exploration(77))\n",
        "print((\"Resulting Series for {}:\").format(100) , exploration(100))\n",
        "print((\"Resulting Series for {}:\").format(92)  , exploration(92))\n",
        "print((\"Resulting Series for {}:\").format(591) , exploration(591))\n",
        "print((\"Resulting Series for {}:\").format(3)   , exploration(3))\n",
        "print((\"Resulting Series for {}:\").format(1)   , exploration(1))"
      ],
      "metadata": {
        "colab": {
          "base_uri": "https://localhost:8080/"
        },
        "id": "0psqM583YlEE",
        "outputId": "ad3a52bb-258a-4200-e09e-bd8e10130840"
      },
      "execution_count": 63,
      "outputs": [
        {
          "output_type": "stream",
          "name": "stdout",
          "text": [
            "Resulting Series for 77: [77, 232, 116, 58, 29, 88, 44, 22, 11, 34, 17, 52, 26, 13, 40, 20, 10, 5, 16, 8, 4, 2, 1, 4, 2, 1, 4, 2, 1, 4, 2, 1, 4, 2, 1, 4, 2, 1, 4, 2, 1, 4, 2, 1, 4, 2, 1, 4, 2, 1, 4, 2, 1, 4, 2, 1, 4, 2, 1, 4, 2, 1, 4, 2, 1, 4, 2, 1, 4, 2, 1, 4, 2, 1, 4, 2, 1, 4, 2, 1, 4, 2, 1, 4, 2, 1, 4, 2, 1, 4, 2, 1, 4, 2, 1, 4, 2, 1, 4, 2]\n",
            "Resulting Series for 100: [100, 50, 25, 76, 38, 19, 58, 29, 88, 44, 22, 11, 34, 17, 52, 26, 13, 40, 20, 10, 5, 16, 8, 4, 2, 1, 4, 2, 1, 4, 2, 1, 4, 2, 1, 4, 2, 1, 4, 2, 1, 4, 2, 1, 4, 2, 1, 4, 2, 1, 4, 2, 1, 4, 2, 1, 4, 2, 1, 4, 2, 1, 4, 2, 1, 4, 2, 1, 4, 2, 1, 4, 2, 1, 4, 2, 1, 4, 2, 1, 4, 2, 1, 4, 2, 1, 4, 2, 1, 4, 2, 1, 4, 2, 1, 4, 2, 1, 4, 2]\n",
            "Resulting Series for 92: [92, 46, 23, 70, 35, 106, 53, 160, 80, 40, 20, 10, 5, 16, 8, 4, 2, 1, 4, 2, 1, 4, 2, 1, 4, 2, 1, 4, 2, 1, 4, 2, 1, 4, 2, 1, 4, 2, 1, 4, 2, 1, 4, 2, 1, 4, 2, 1, 4, 2, 1, 4, 2, 1, 4, 2, 1, 4, 2, 1, 4, 2, 1, 4, 2, 1, 4, 2, 1, 4, 2, 1, 4, 2, 1, 4, 2, 1, 4, 2, 1, 4, 2, 1, 4, 2, 1, 4, 2, 1, 4, 2, 1, 4, 2, 1, 4, 2, 1, 4]\n",
            "Resulting Series for 591: [591, 1774, 887, 2662, 1331, 3994, 1997, 5992, 2996, 1498, 749, 2248, 1124, 562, 281, 844, 422, 211, 634, 317, 952, 476, 238, 119, 358, 179, 538, 269, 808, 404, 202, 101, 304, 152, 76, 38, 19, 58, 29, 88, 44, 22, 11, 34, 17, 52, 26, 13, 40, 20, 10, 5, 16, 8, 4, 2, 1, 4, 2, 1, 4, 2, 1, 4, 2, 1, 4, 2, 1, 4, 2, 1, 4, 2, 1, 4, 2, 1, 4, 2, 1, 4, 2, 1, 4, 2, 1, 4, 2, 1, 4, 2, 1, 4, 2, 1, 4, 2, 1, 4]\n",
            "Resulting Series for 3: [3, 10, 5, 16, 8, 4, 2, 1, 4, 2, 1, 4, 2, 1, 4, 2, 1, 4, 2, 1, 4, 2, 1, 4, 2, 1, 4, 2, 1, 4, 2, 1, 4, 2, 1, 4, 2, 1, 4, 2, 1, 4, 2, 1, 4, 2, 1, 4, 2, 1, 4, 2, 1, 4, 2, 1, 4, 2, 1, 4, 2, 1, 4, 2, 1, 4, 2, 1, 4, 2, 1, 4, 2, 1, 4, 2, 1, 4, 2, 1, 4, 2, 1, 4, 2, 1, 4, 2, 1, 4, 2, 1, 4, 2, 1, 4, 2, 1, 4, 2]\n",
            "Resulting Series for 1: [1, 4, 2, 1, 4, 2, 1, 4, 2, 1, 4, 2, 1, 4, 2, 1, 4, 2, 1, 4, 2, 1, 4, 2, 1, 4, 2, 1, 4, 2, 1, 4, 2, 1, 4, 2, 1, 4, 2, 1, 4, 2, 1, 4, 2, 1, 4, 2, 1, 4, 2, 1, 4, 2, 1, 4, 2, 1, 4, 2, 1, 4, 2, 1, 4, 2, 1, 4, 2, 1, 4, 2, 1, 4, 2, 1, 4, 2, 1, 4, 2, 1, 4, 2, 1, 4, 2, 1, 4, 2, 1, 4, 2, 1, 4, 2, 1, 4, 2, 1]\n"
          ]
        }
      ]
    },
    {
      "cell_type": "markdown",
      "source": [
        "# Explore: Time Optimization"
      ],
      "metadata": {
        "id": "QRRkMIPks8T0"
      }
    },
    {
      "cell_type": "markdown",
      "source": [
        "Now that we have defined a way to compute a series defined by some *n* value, we can attempt to optimize the runtime of our **exploration(*n*)** to run faster. As we can see from the above result, the 4,2,1 repeats many, many times once our *n* reaches 4 for the first time. We can use our knowledge of the *3n+1 Conjecture* and this repitiion to optimize how long it takes our code find the series.  \n",
        "\n",
        "Once *n=1*, we know that the next value of *n* will again be 4, then 2, then 1 again. By using this, we can stop iterating early once we know the repeated 4,2,1 is beginning. One way to do this is to add a control statement (if statement) for if *n* equals 1, and to then exit the program. This means that the repeated 4,2,1 will not be visualized in the resulting series printed, and the series will end at 1 consistently. \n",
        "\n",
        "We have also increased the iteration amount from 100 to 10000000, in order to increase the accuracy for larger numbers, as we are no longer printing out the repeated 4,2,1 sub-series.\n"
      ],
      "metadata": {
        "id": "4XBCoDIo6dYX"
      }
    },
    {
      "cell_type": "code",
      "source": [
        "def exploration_faster(n):\n",
        "  result_list = [n]  # define a list storage for our series result\n",
        "\n",
        "  # Loop 1000 times in order to provide a sufficent amount of \n",
        "  # iterations to find the 4,2,1 loop in the resulting series\n",
        "  for i in range(1,1000000):\n",
        "\n",
        "    # 1. if n is even, divide by 2\n",
        "    # 2. if n is odd, n = 3n+1\n",
        "    if(n % 2 == 0):\n",
        "      n = n//2\n",
        "    else: \n",
        "      n = (3*n)+1\n",
        "\n",
        "    # 3. add the new n to our resulting series\n",
        "    result_list.append(n)\n",
        "\n",
        "    # 4. check if 4,2,1 is starting to occur repeatedly in the resulting series\n",
        "    if(n == 1):\n",
        "      print( (\"Exited program at iteration {} as the 4,2,1 loop is starting\").format(i) )\n",
        "      return (result_list)\n",
        "\n",
        "  return result_list"
      ],
      "metadata": {
        "id": "X4JiOjJ4tCgW"
      },
      "execution_count": 74,
      "outputs": []
    },
    {
      "cell_type": "code",
      "source": [
        "print((\"Resulting Series for {}:\").format(77)  , exploration_faster(77))\n",
        "print('\\n') \n",
        "print((\"Resulting Series for {}:\").format(100) , exploration_faster(100))\n",
        "print('\\n') \n",
        "print((\"Resulting Series for {}:\").format(92)  , exploration_faster(92))\n",
        "print('\\n') \n",
        "print((\"Resulting Series for {}:\").format(591) , exploration_faster(591))\n",
        "print('\\n') \n",
        "print((\"Resulting Series for {}:\").format(3)   , exploration_faster(3))"
      ],
      "metadata": {
        "colab": {
          "base_uri": "https://localhost:8080/"
        },
        "id": "mzVBEHTyvW9Y",
        "outputId": "01f8cace-d33a-479e-e3eb-c6fe59184abf"
      },
      "execution_count": 51,
      "outputs": [
        {
          "output_type": "stream",
          "name": "stdout",
          "text": [
            "Exited program at iteration 22 as the 4,2,1 loop is starting\n",
            "Resulting Series for 77: [77, 232, 116, 58, 29, 88, 44, 22, 11, 34, 17, 52, 26, 13, 40, 20, 10, 5, 16, 8, 4, 2, 1]\n",
            "\n",
            "\n",
            "Exited program at iteration 25 as the 4,2,1 loop is starting\n",
            "Resulting Series for 100: [100, 50, 25, 76, 38, 19, 58, 29, 88, 44, 22, 11, 34, 17, 52, 26, 13, 40, 20, 10, 5, 16, 8, 4, 2, 1]\n",
            "\n",
            "\n",
            "Exited program at iteration 17 as the 4,2,1 loop is starting\n",
            "Resulting Series for 92: [92, 46, 23, 70, 35, 106, 53, 160, 80, 40, 20, 10, 5, 16, 8, 4, 2, 1]\n",
            "\n",
            "\n",
            "Exited program at iteration 56 as the 4,2,1 loop is starting\n",
            "Resulting Series for 591: [591, 1774, 887, 2662, 1331, 3994, 1997, 5992, 2996, 1498, 749, 2248, 1124, 562, 281, 844, 422, 211, 634, 317, 952, 476, 238, 119, 358, 179, 538, 269, 808, 404, 202, 101, 304, 152, 76, 38, 19, 58, 29, 88, 44, 22, 11, 34, 17, 52, 26, 13, 40, 20, 10, 5, 16, 8, 4, 2, 1]\n",
            "\n",
            "\n",
            "Exited program at iteration 7 as the 4,2,1 loop is starting\n",
            "Resulting Series for 3: [3, 10, 5, 16, 8, 4, 2, 1]\n"
          ]
        }
      ]
    },
    {
      "cell_type": "markdown",
      "source": [
        "The optimized time is shown below, compared to the original time before we had written a way to stop the iteration early on an occurence of 1."
      ],
      "metadata": {
        "id": "Xlg2ZTP8yd6W"
      }
    },
    {
      "cell_type": "code",
      "source": [
        "print(\"Without optimization\")\n",
        "%timeit exploration(77)\n",
        "%timeit exploration(100)\n",
        "%timeit exploration(92)\n",
        "%timeit exploration(591)\n",
        "%timeit exploration(3)\n",
        "print(\"\\n\")\n",
        "print(\"With optimization\")\n",
        "%timeit exploration_faster(77)\n",
        "%timeit exploration_faster(100)\n",
        "%timeit exploration_faster(92)\n",
        "%timeit exploration_faster(591)\n",
        "%timeit exploration_faster(3)"
      ],
      "metadata": {
        "colab": {
          "base_uri": "https://localhost:8080/"
        },
        "id": "zYAs9HbUx-XK",
        "outputId": "86526008-c7bc-457e-e583-fb3c79c77113"
      },
      "execution_count": 45,
      "outputs": [
        {
          "output_type": "stream",
          "name": "stdout",
          "text": [
            "Without optimization\n",
            "100000 loops, best of 5: 18 µs per loop\n",
            "100000 loops, best of 5: 17.9 µs per loop\n",
            "100000 loops, best of 5: 17.9 µs per loop\n",
            "100000 loops, best of 5: 19.1 µs per loop\n",
            "100000 loops, best of 5: 18 µs per loop\n",
            "\n",
            "\n",
            "With optimization\n",
            "100000 loops, best of 5: 5.04 µs per loop\n",
            "100000 loops, best of 5: 5.58 µs per loop\n",
            "100000 loops, best of 5: 3.94 µs per loop\n",
            "100000 loops, best of 5: 12.9 µs per loop\n",
            "The slowest run took 4.28 times longer than the fastest. This could mean that an intermediate result is being cached.\n",
            "1000000 loops, best of 5: 1.92 µs per loop\n"
          ]
        }
      ]
    },
    {
      "cell_type": "markdown",
      "source": [
        "# Explore: Allowing Negative Numbers"
      ],
      "metadata": {
        "id": "kizelu1mEv4X"
      }
    },
    {
      "cell_type": "markdown",
      "source": [
        "What would happen if we were to allow negative numbers into our python version of the *3n+1 Conjecture*? As of now, we currently have only been testing *n* > 0 starting values. Let's try to find the series of a negative number *n*.\n",
        "\n",
        "Just based on conjecture, we could assume that negative numbers do not work well with our version of the *3n+1 Conjecture*, as *3(-n)+1* does not result in the same number as *3n+1*."
      ],
      "metadata": {
        "id": "KnYzXURgE0lP"
      }
    },
    {
      "cell_type": "code",
      "source": [
        "print((\"Resulting Series for {}:\").format(-3)  , exploration_faster(-3))"
      ],
      "metadata": {
        "colab": {
          "base_uri": "https://localhost:8080/"
        },
        "id": "_Y2szoLfH26V",
        "outputId": "4d41c975-bda2-4529-f1a7-2a5f0a3a9abb"
      },
      "execution_count": 75,
      "outputs": [
        {
          "output_type": "stream",
          "name": "stderr",
          "text": [
            "IOPub data rate exceeded.\n",
            "The notebook server will temporarily stop sending output\n",
            "to the client in order to avoid crashing it.\n",
            "To change this limit, set the config variable\n",
            "`--NotebookApp.iopub_data_rate_limit`.\n",
            "\n",
            "Current values:\n",
            "NotebookApp.iopub_data_rate_limit=1000000.0 (bytes/sec)\n",
            "NotebookApp.rate_limit_window=3.0 (secs)\n",
            "\n"
          ]
        }
      ]
    },
    {
      "cell_type": "markdown",
      "source": [
        "We can see that that didn't work well. This means that our python function does not handle negative numbers safely. We can tackle this issue in many ways, possible ways including:\n",
        "- Creating a safe way to exit the function if a negative *n* is entered.\n",
        "- Adapting the function to use *3n-1* instead of *3n+1*.\n",
        "- Using the absolute value of the *n* value entered to avoid the issue entirely.\n",
        "- Change the end-early option to \"if *n* == -1\", instead of 1\n",
        "\n",
        "Let's adopt the second and fourth options, as it seems the most negative-friendly. To do this, we need a new control statement for if *n* is negative. If *n* is ever negative, we should impliment our new ideas. Our new bit of code will instead go off of the *3n-1 Conjecture*, and the *3n-1* should provide the same experience for neagtive *n* values as the *3n+1* did for positive *n* values."
      ],
      "metadata": {
        "id": "XnvgUbLZIBsV"
      }
    },
    {
      "cell_type": "code",
      "source": [
        "def exploration_neg(n):\n",
        "  result_list = [n]\n",
        "\n",
        "  if(n < 0):  # n is negative, use this logic!\n",
        "    for i in range(1,1000000):\n",
        "      if(n % 2 == 0):   # if n is even, divide by 2\n",
        "        n = n//2\n",
        "      else:             # if n is odd, n = 3n-1\n",
        "        n = (3*n)-1\n",
        "      result_list.append(n)\n",
        "\n",
        "      # check if -4, -2, -1 is starting to occur repeatedly in the resulting series\n",
        "      if(n == -1):\n",
        "        print( (\"Exited program at iteration {} as the -4, -2, -1 loop is starting\").format(i) )\n",
        "        return result_list\n",
        "\n",
        "  else:   # n is positive, use this logic!\n",
        "    for i in range(1,1000000):\n",
        "      if(n % 2 == 0):   # if n is even, divide by 2\n",
        "        n = n//2\n",
        "      else:             # if n is odd, n = 3n+1\n",
        "        n = (3*n)+1\n",
        "      result_list.append(n)\n",
        "\n",
        "      # check if 4,2,1 is starting to occur repeatedly in the resulting series\n",
        "      if(n == 1):\n",
        "        print( (\"Exited program at iteration {} as the 4,2,1 loop is starting\").format(i) )\n",
        "        return result_list\n",
        "\n",
        "  return result_list"
      ],
      "metadata": {
        "id": "515SiqxFJbFz"
      },
      "execution_count": 88,
      "outputs": []
    },
    {
      "cell_type": "code",
      "source": [
        "print((\"Resulting Series for {}:\").format(-3)  , exploration_neg(-3))\n",
        "print('\\n')\n",
        "print((\"Resulting Series for {}:\").format(3)  , exploration_neg(3))"
      ],
      "metadata": {
        "colab": {
          "base_uri": "https://localhost:8080/"
        },
        "id": "YLfNIdXyKiXV",
        "outputId": "eeb2cf7a-c076-47b1-e83d-53c94b8489db"
      },
      "execution_count": 94,
      "outputs": [
        {
          "output_type": "stream",
          "name": "stdout",
          "text": [
            "Exited program at iteration 7 as the -4, -2, -1 loop is starting\n",
            "Resulting Series for -3: [-3, -10, -5, -16, -8, -4, -2, -1]\n",
            "\n",
            "\n",
            "Exited program at iteration 7 as the 4,2,1 loop is starting\n",
            "Resulting Series for 3: [3, 10, 5, 16, 8, 4, 2, 1]\n"
          ]
        }
      ]
    },
    {
      "cell_type": "markdown",
      "source": [
        "We can see that now our python version of the *3n+1 Conjecture* accounts for negative numbers, as well as retaining the ability to use positive numbers. The simple switch from *3n+1* to *3n-1* allowed for the same odd repetition of 4,2,1 to occur, but now shows itself as -4,-2,-1. \n",
        "\n",
        "Other than switching \"+1\" occurences in our code to now \"-1\" (that is, if *n* is negative), there are no functional differences in our python version of the *3n+1 Conjecture* between the logic to handle a positive *n* vs. a negative *n* value."
      ],
      "metadata": {
        "id": "-RgaGBiYLby9"
      }
    },
    {
      "cell_type": "markdown",
      "source": [
        "Both the *3n+1* and *3n-1 Conjectures* do not accept *n* = 0."
      ],
      "metadata": {
        "id": "z5En8sTjO7zC"
      }
    },
    {
      "cell_type": "markdown",
      "source": [
        "# Explore: Dropping Time"
      ],
      "metadata": {
        "id": "EJXTq3GL6uME"
      }
    },
    {
      "cell_type": "markdown",
      "source": [
        "The *dropping time* ( σ(n) ) represents the amount of time it takes for the sequence starting at *n* to drop to a number smaller than *n*'s orinigal value. \n",
        "\n",
        "Let us consider the series created by *n* = 17. σ(17) = 3, as the resulting series is [ 17, 52, 26, 13, 27, 40, 20, 10, 5, 16, 8, 4, 2, 1, .... ], and since the 3rd value of *n* is smaller than the starting value of *n*. We say 17 takes three steps to drop, so the dropping time is 3. \n",
        "\n",
        "As *n* = 1 results in *n* = 4, the dropping time of 1 is undefined. \n",
        "\n",
        "Look for connections between dropping time and n mod 8, and n mod 16, etc."
      ],
      "metadata": {
        "id": "B-ILE4ZH6_LE"
      }
    },
    {
      "cell_type": "markdown",
      "source": [
        "**Defined Varibles**:\n",
        "- *og_n* : a safe place to store the original value of *n* to compare to each iterative value of *n* to find the drop occurence\n",
        "\n",
        "**Function Logic**\n",
        "- Create a function which takes in a number n, and outputs the amount of iterations it takes for *n* to drop.\n",
        "- Iterate 1000000 times, with each iteration changing n's value to either n/2 or 3n+1, depending on if it is even or odd by using control statements. Then, append n to result_list. Do this until the series is completed.\n",
        "- Each iteration, compare *n* to *og_n*, and if *n* is a smaller number, then return the number iteration (*i*) we are on.\n",
        "- If there is no drop by the 1000000th iteration, return 0, which will stand for an undefined drop time."
      ],
      "metadata": {
        "id": "FYApN8OSArpW"
      }
    },
    {
      "cell_type": "code",
      "source": [
        "def exploration_dt(n):\n",
        "  result_list = [n]  # define a list storage for our series result\n",
        "  og_n = n           # store n's original value somewhere safe\n",
        "\n",
        "  # Loop 100 times in order to provide a sufficent amount of \n",
        "  # iterations to find the 4,2,1 loop in the resulting series\n",
        "  for i in range(1,1000000):\n",
        "\n",
        "    # 1. if n is even, divide by 2\n",
        "    # 2. if n is odd, n = 3n+1\n",
        "    if(n % 2 == 0):\n",
        "      n = n//2\n",
        "    else: \n",
        "      n = (3*n)+1\n",
        "\n",
        "    # 3. add the new n to our resulting series\n",
        "    result_list.append(n)\n",
        "\n",
        "    # 4. Check to see if drop has been reached by comparing n to its original value\n",
        "    if(og_n > n):\n",
        "      return i\n",
        "\n",
        "  return 0"
      ],
      "metadata": {
        "id": "AsXHrdk56-5S"
      },
      "execution_count": 56,
      "outputs": []
    },
    {
      "cell_type": "code",
      "source": [
        "print((\"Drop time for {}:\").format(17)  , exploration_dt(17))\n",
        "print((\"Drop time for {}:\").format(77)  , exploration_dt(77))\n",
        "print((\"Drop time for {}:\").format(100) , exploration_dt(100))\n",
        "print((\"Drop time for {}:\").format(92)  , exploration_dt(92))\n",
        "print((\"Drop time for {}:\").format(591) , exploration_dt(591))\n",
        "print((\"Drop time for {}:\").format(3)   , exploration_dt(3))"
      ],
      "metadata": {
        "colab": {
          "base_uri": "https://localhost:8080/"
        },
        "id": "3h4QDkPF_Wp8",
        "outputId": "fc9bc86f-3ae4-4c97-b3c5-a1063fe89521"
      },
      "execution_count": 62,
      "outputs": [
        {
          "output_type": "stream",
          "name": "stdout",
          "text": [
            "Drop time for 17: 3\n",
            "Drop time for 77: 3\n",
            "Drop time for 100: 1\n",
            "Drop time for 92: 1\n",
            "Drop time for 591: 13\n",
            "Drop time for 3: 6\n"
          ]
        }
      ]
    },
    {
      "cell_type": "markdown",
      "source": [
        "As we can see from the above results, 17 has a drop time of 3, as explained earlier. \n",
        "\n",
        "We can also see from the results, that if *n* begins as an even number, the drop time is always 1, as an even *n* will iterate to *n* = *n/2*. Odd starting values, however, will have a larger drop time, as *n*'s value grows significantly on an odd iteration. "
      ],
      "metadata": {
        "id": "i_x7pOwdCNn7"
      }
    },
    {
      "cell_type": "markdown",
      "source": [
        "# TODO: Explore the connections between dropping time and n mod 8, and n mod 16, etc."
      ],
      "metadata": {
        "id": "UE_gcDjSEFP9"
      }
    },
    {
      "cell_type": "markdown",
      "source": [
        "# TODO: Explore changing the rules (if we even need to)"
      ],
      "metadata": {
        "id": "qBs-99__PRAs"
      }
    }
  ]
}