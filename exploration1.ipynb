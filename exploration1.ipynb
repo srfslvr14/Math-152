{
  "nbformat": 4,
  "nbformat_minor": 0,
  "metadata": {
    "colab": {
      "name": "exploration1.ipynb",
      "provenance": [],
      "collapsed_sections": [],
      "authorship_tag": "ABX9TyNSDdZVAkrdILdXBI+XYkCW",
      "include_colab_link": true
    },
    "kernelspec": {
      "name": "python3",
      "display_name": "Python 3"
    },
    "language_info": {
      "name": "python"
    }
  },
  "cells": [
    {
      "cell_type": "markdown",
      "metadata": {
        "id": "view-in-github",
        "colab_type": "text"
      },
      "source": [
        "<a href=\"https://colab.research.google.com/github/srfslvr14/Math-152/blob/main/exploration1.ipynb\" target=\"_parent\"><img src=\"https://colab.research.google.com/assets/colab-badge.svg\" alt=\"Open In Colab\"/></a>"
      ]
    },
    {
      "cell_type": "markdown",
      "source": [
        "# Exploration 1 : *The 3n+1 Conjecture.*\n",
        "\n",
        "In this notebook, we will be exploring the fabeled **3n+1 conjecture**. This conjecture states that, starting with some number *n*, we can create a series by following two rules.\n",
        "\n",
        "1. If *n* is an even number, divide it by 2\n",
        "2. if *n* is an odd number, have *n = 3n+1*\n",
        "\n",
        "By following these rules, we will result in a series containing each iteration and value of *n* as we progress, and, by the odd properties of this conjecture, the series will inveittibly begin repeating 4,2,1 over and over again. This is because 4 is even, so *n* = (4/2) = 2, 2 is even, so *n* = (2/2) = 1, and since 1 is odd, *n* = (3x1+1) = 4, and thus we arrive back at *n* = 4.\n",
        "\n",
        "For example, if we take *n* = 10, we find the resulting series: [ 10, 5, 16, 8, 4, 2, 1, 4, 2, 1, 4, 2, 1, 4, 2, 1, ... ] and so on. Once *n* = 4, the series has inevitibly begun, and the repeated 4,2,1 values will occur exclusivly. \n",
        "\n",
        "\n",
        "// define the issue and explain it to the reader\n",
        "\n",
        "// how we are going to tackle the problem, what solutions we have come up with \n",
        "\n",
        "// explain varibles and functions by name\n",
        "\n",
        "// use timing package ( %timeit function_name )"
      ],
      "metadata": {
        "id": "TzHFL_n0SRxP"
      }
    },
    {
      "cell_type": "markdown",
      "source": [
        "In order to explore this conjecture further, we have defined the following python function, **exploration(n)**, which takes a number *n*, and returns the resulting series in the form of a list based on the *3n+1 Conjecture*'s bounds. We can easily apply the rules of the *3n+1* conjecture to our defined function, by using a for loop to iterate a lot, and by setting control statments (if statements) to change the value of *n* to either *n/2* or *3n+1* depending on if *n* is even or odd. \n",
        "\n",
        "So as of now, by taking in *n*, we have set the pace for a function which will iterate a lot (say 100 times), and change *n*'s value to *n/2* if *n* is even, or *3n+1* if *n* is odd. Each iteration, we will also append the newest computed value of *n* into a list to eventually return the first 100 indecies of the series created by the *3n+1* conjecture. \n",
        "\n",
        "\n",
        "**Defined Varibles**: \n",
        "  - *result_list* : a list varible to store the resulting series as we iterated and append more values of *n* to it.\n",
        "  - *i* : a varible to store which number iteration we are currently on, mainly used to keep track for use in the for loop\n",
        "  - *n* : a varible used to store the initial value of *n*, as well as store every value computed within each iteration thereafter. \n",
        "\n",
        "\n",
        "Overall Logic: create a function which takes in a number *n*, and outputs \n",
        "\n",
        "Time Optimization: "
      ],
      "metadata": {
        "id": "b1SsN7RBoLW0"
      }
    },
    {
      "cell_type": "code",
      "source": [
        "def exploration(n):\n",
        "  result_list = [n]  # define a list storage for our series result\n",
        "\n",
        "  # Loop 100 times in order to provide a sufficent amount of \n",
        "  # iterations to find the 4,2,1 loop in the resulting series\n",
        "  for i in range(1,100):\n",
        "\n",
        "    # 1. if n is even, divide by 2\n",
        "    # 2. if n is odd, n = 3n+1\n",
        "    if(n % 2 == 0):\n",
        "      n = n//2\n",
        "    else: \n",
        "      n = (3*n)+1\n",
        "\n",
        "    # 3. add the new n to our resulting series\n",
        "    result_list.append(n)\n",
        "\n",
        "  return result_list\n"
      ],
      "metadata": {
        "id": "wpAptPW-TWEI"
      },
      "execution_count": 9,
      "outputs": []
    },
    {
      "cell_type": "code",
      "source": [
        "print((\"Resulting Series for {}:\").format(77)  , exploration(77))\n",
        "print((\"Resulting Series for {}:\").format(100) , exploration(100))\n",
        "print((\"Resulting Series for {}:\").format(92)  , exploration(92))\n",
        "print((\"Resulting Series for {}:\").format(591) , exploration(591))\n",
        "print((\"Resulting Series for {}:\").format(3)   , exploration(3))"
      ],
      "metadata": {
        "colab": {
          "base_uri": "https://localhost:8080/"
        },
        "id": "0psqM583YlEE",
        "outputId": "5f1bfbfa-a65e-48ee-c038-b703e4fd0e69"
      },
      "execution_count": 46,
      "outputs": [
        {
          "output_type": "stream",
          "name": "stdout",
          "text": [
            "Resulting Series for 77: [77, 232, 116, 58, 29, 88, 44, 22, 11, 34, 17, 52, 26, 13, 40, 20, 10, 5, 16, 8, 4, 2, 1, 4, 2, 1, 4, 2, 1, 4, 2, 1, 4, 2, 1, 4, 2, 1, 4, 2, 1, 4, 2, 1, 4, 2, 1, 4, 2, 1, 4, 2, 1, 4, 2, 1, 4, 2, 1, 4, 2, 1, 4, 2, 1, 4, 2, 1, 4, 2, 1, 4, 2, 1, 4, 2, 1, 4, 2, 1, 4, 2, 1, 4, 2, 1, 4, 2, 1, 4, 2, 1, 4, 2, 1, 4, 2, 1, 4, 2]\n",
            "Resulting Series for 100: [100, 50, 25, 76, 38, 19, 58, 29, 88, 44, 22, 11, 34, 17, 52, 26, 13, 40, 20, 10, 5, 16, 8, 4, 2, 1, 4, 2, 1, 4, 2, 1, 4, 2, 1, 4, 2, 1, 4, 2, 1, 4, 2, 1, 4, 2, 1, 4, 2, 1, 4, 2, 1, 4, 2, 1, 4, 2, 1, 4, 2, 1, 4, 2, 1, 4, 2, 1, 4, 2, 1, 4, 2, 1, 4, 2, 1, 4, 2, 1, 4, 2, 1, 4, 2, 1, 4, 2, 1, 4, 2, 1, 4, 2, 1, 4, 2, 1, 4, 2]\n",
            "Resulting Series for 92: [92, 46, 23, 70, 35, 106, 53, 160, 80, 40, 20, 10, 5, 16, 8, 4, 2, 1, 4, 2, 1, 4, 2, 1, 4, 2, 1, 4, 2, 1, 4, 2, 1, 4, 2, 1, 4, 2, 1, 4, 2, 1, 4, 2, 1, 4, 2, 1, 4, 2, 1, 4, 2, 1, 4, 2, 1, 4, 2, 1, 4, 2, 1, 4, 2, 1, 4, 2, 1, 4, 2, 1, 4, 2, 1, 4, 2, 1, 4, 2, 1, 4, 2, 1, 4, 2, 1, 4, 2, 1, 4, 2, 1, 4, 2, 1, 4, 2, 1, 4]\n",
            "Resulting Series for 591: [591, 1774, 887, 2662, 1331, 3994, 1997, 5992, 2996, 1498, 749, 2248, 1124, 562, 281, 844, 422, 211, 634, 317, 952, 476, 238, 119, 358, 179, 538, 269, 808, 404, 202, 101, 304, 152, 76, 38, 19, 58, 29, 88, 44, 22, 11, 34, 17, 52, 26, 13, 40, 20, 10, 5, 16, 8, 4, 2, 1, 4, 2, 1, 4, 2, 1, 4, 2, 1, 4, 2, 1, 4, 2, 1, 4, 2, 1, 4, 2, 1, 4, 2, 1, 4, 2, 1, 4, 2, 1, 4, 2, 1, 4, 2, 1, 4, 2, 1, 4, 2, 1, 4]\n",
            "Resulting Series for 3: [3, 10, 5, 16, 8, 4, 2, 1, 4, 2, 1, 4, 2, 1, 4, 2, 1, 4, 2, 1, 4, 2, 1, 4, 2, 1, 4, 2, 1, 4, 2, 1, 4, 2, 1, 4, 2, 1, 4, 2, 1, 4, 2, 1, 4, 2, 1, 4, 2, 1, 4, 2, 1, 4, 2, 1, 4, 2, 1, 4, 2, 1, 4, 2, 1, 4, 2, 1, 4, 2, 1, 4, 2, 1, 4, 2, 1, 4, 2, 1, 4, 2, 1, 4, 2, 1, 4, 2, 1, 4, 2, 1, 4, 2, 1, 4, 2, 1, 4, 2]\n"
          ]
        }
      ]
    },
    {
      "cell_type": "markdown",
      "source": [
        "Now that we have defined a way to compute a series defined by some *n* value, we can attempt to optimize the runtime of our **exploration(*n*)** to run faster. As we can see from the above result, the 4,2,1 repeats many, many times once our *n* reaches 4 for the first time. We can use our knowledge of the *3n+1 Conjecture* and this repitiion to optimize how long it takes our code find the series.  \n",
        "\n",
        "Once *n=1*, we know that the next value of *n* will again be 4, then 2, then 1 again. By using this, we can stop iterating early once we know the repeated 4,2,1 is beginning. One way to do this is to add a control statement (if statement) for if *n* equals 1, and to then exit the program. This means that the repeated 4,2,1 will not be visualized in the resulting series printed, and the series will end at 1 consistently. \n",
        "\n",
        "We have also increased the iteration amount from 100 to 10000000, in order to increase the accuracy for larger numbers, as we are no longer printing out the repeated 4,2,1 sub-series.\n"
      ],
      "metadata": {
        "id": "QRRkMIPks8T0"
      }
    },
    {
      "cell_type": "code",
      "source": [
        "def exploration_faster(n):\n",
        "  result_list = [n]  # define a list storage for our series result\n",
        "\n",
        "  # Loop 1000 times in order to provide a sufficent amount of \n",
        "  # iterations to find the 4,2,1 loop in the resulting series\n",
        "  for i in range(1,1000000):\n",
        "\n",
        "    # 1. if n is even, divide by 2\n",
        "    # 2. if n is odd, n = 3n+1\n",
        "    if(n % 2 == 0):\n",
        "      n = n//2\n",
        "    else: \n",
        "      n = (3*n)+1\n",
        "\n",
        "    # 3. add the new n to our resulting series\n",
        "    result_list.append(n)\n",
        "\n",
        "    # 4. check if 4,2,1 is starting to occur repeatedly in the resulting series\n",
        "    if(n == 1):\n",
        "      print( (\"Exited program at iteration {} as the 4,2,1 loop is starting\").format(i) )\n",
        "      return (result_list)\n",
        "\n",
        "  return result_list"
      ],
      "metadata": {
        "id": "X4JiOjJ4tCgW"
      },
      "execution_count": 43,
      "outputs": []
    },
    {
      "cell_type": "code",
      "source": [
        "print((\"Resulting Series for {}:\").format(77)  , exploration_faster(77))\n",
        "print('\\n') \n",
        "print((\"Resulting Series for {}:\").format(100) , exploration_faster(100))\n",
        "print('\\n') \n",
        "print((\"Resulting Series for {}:\").format(92)  , exploration_faster(92))\n",
        "print('\\n') \n",
        "print((\"Resulting Series for {}:\").format(591) , exploration_faster(591))\n",
        "print('\\n') \n",
        "print((\"Resulting Series for {}:\").format(3)   , exploration_faster(3))"
      ],
      "metadata": {
        "colab": {
          "base_uri": "https://localhost:8080/"
        },
        "id": "mzVBEHTyvW9Y",
        "outputId": "b2e32223-e942-4d9e-afdc-824fd65c7c44"
      },
      "execution_count": 42,
      "outputs": [
        {
          "output_type": "stream",
          "name": "stdout",
          "text": [
            "Exited program at iteration 22 as the 4,2,1 loop is starting\n",
            "Resulting Series for 77: [77, 232, 116, 58, 29, 88, 44, 22, 11, 34, 17, 52, 26, 13, 40, 20, 10, 5, 16, 8, 4, 2, 1]\n",
            "\n",
            "\n",
            "Exited program at iteration 25 as the 4,2,1 loop is starting\n",
            "Resulting Series for 100: [100, 50, 25, 76, 38, 19, 58, 29, 88, 44, 22, 11, 34, 17, 52, 26, 13, 40, 20, 10, 5, 16, 8, 4, 2, 1]\n",
            "\n",
            "\n",
            "Exited program at iteration 17 as the 4,2,1 loop is starting\n",
            "Resulting Series for 92: [92, 46, 23, 70, 35, 106, 53, 160, 80, 40, 20, 10, 5, 16, 8, 4, 2, 1]\n",
            "\n",
            "\n",
            "Exited program at iteration 56 as the 4,2,1 loop is starting\n",
            "Resulting Series for 591: [591, 1774, 887, 2662, 1331, 3994, 1997, 5992, 2996, 1498, 749, 2248, 1124, 562, 281, 844, 422, 211, 634, 317, 952, 476, 238, 119, 358, 179, 538, 269, 808, 404, 202, 101, 304, 152, 76, 38, 19, 58, 29, 88, 44, 22, 11, 34, 17, 52, 26, 13, 40, 20, 10, 5, 16, 8, 4, 2, 1]\n",
            "\n",
            "\n",
            "Exited program at iteration 7 as the 4,2,1 loop is starting\n",
            "Resulting Series for 3: [3, 10, 5, 16, 8, 4, 2, 1]\n"
          ]
        }
      ]
    },
    {
      "cell_type": "markdown",
      "source": [
        "The optimized time is shown below, compared to the original time before we had written a way to stop the iteration early on an occurence of 1."
      ],
      "metadata": {
        "id": "Xlg2ZTP8yd6W"
      }
    },
    {
      "cell_type": "code",
      "source": [
        "print(\"Without optimization\")\n",
        "%timeit exploration(77)\n",
        "%timeit exploration(100)\n",
        "%timeit exploration(92)\n",
        "%timeit exploration(591)\n",
        "%timeit exploration(3)\n",
        "print(\"\\n\")\n",
        "print(\"With optimization\")\n",
        "%timeit exploration_faster(77)\n",
        "%timeit exploration_faster(100)\n",
        "%timeit exploration_faster(92)\n",
        "%timeit exploration_faster(591)\n",
        "%timeit exploration_faster(3)"
      ],
      "metadata": {
        "colab": {
          "base_uri": "https://localhost:8080/"
        },
        "id": "zYAs9HbUx-XK",
        "outputId": "86526008-c7bc-457e-e583-fb3c79c77113"
      },
      "execution_count": 45,
      "outputs": [
        {
          "output_type": "stream",
          "name": "stdout",
          "text": [
            "Without optimization\n",
            "100000 loops, best of 5: 18 µs per loop\n",
            "100000 loops, best of 5: 17.9 µs per loop\n",
            "100000 loops, best of 5: 17.9 µs per loop\n",
            "100000 loops, best of 5: 19.1 µs per loop\n",
            "100000 loops, best of 5: 18 µs per loop\n",
            "\n",
            "\n",
            "With optimization\n",
            "100000 loops, best of 5: 5.04 µs per loop\n",
            "100000 loops, best of 5: 5.58 µs per loop\n",
            "100000 loops, best of 5: 3.94 µs per loop\n",
            "100000 loops, best of 5: 12.9 µs per loop\n",
            "The slowest run took 4.28 times longer than the fastest. This could mean that an intermediate result is being cached.\n",
            "1000000 loops, best of 5: 1.92 µs per loop\n"
          ]
        }
      ]
    },
    {
      "cell_type": "markdown",
      "source": [
        ""
      ],
      "metadata": {
        "id": "G-CWSvZmzvRc"
      }
    }
  ]
}