{
  "nbformat": 4,
  "nbformat_minor": 0,
  "metadata": {
    "colab": {
      "name": "exploration1.ipynb",
      "provenance": [],
      "collapsed_sections": [],
      "authorship_tag": "ABX9TyO7RuG6bYHWvw+Ooyv/+MAs",
      "include_colab_link": true
    },
    "kernelspec": {
      "name": "python3",
      "display_name": "Python 3"
    },
    "language_info": {
      "name": "python"
    }
  },
  "cells": [
    {
      "cell_type": "markdown",
      "metadata": {
        "id": "view-in-github",
        "colab_type": "text"
      },
      "source": [
        "<a href=\"https://colab.research.google.com/github/srfslvr14/Math-152/blob/main/exploration1.ipynb\" target=\"_parent\"><img src=\"https://colab.research.google.com/assets/colab-badge.svg\" alt=\"Open In Colab\"/></a>"
      ]
    },
    {
      "cell_type": "markdown",
      "source": [
        "# Exploration 1 : *The 3n+1 Conjecture.*\n",
        "\n",
        "// define the issue and explain it to the reader\n",
        "\n",
        "// how we are going to tackle the problem, what solutions we have come up with \n",
        "\n",
        "// explain varibles and functions by name\n",
        "\n",
        "// use timing package ( %timeit function_name )"
      ],
      "metadata": {
        "id": "TzHFL_n0SRxP"
      }
    },
    {
      "cell_type": "code",
      "source": [
        "def exploration(n):\n",
        "  result_list = [n]  # define a list storage for our series result\n",
        "  stop_check = []    # define a way to check if the 4,2,1 loop is occuring\n",
        "\n",
        "  # Loop 1000 times in order to provide a sufficent amount of \n",
        "  # iterations to find the 4,2,1 loop in the resulting series\n",
        "  for i in range(1,1000000):\n",
        "\n",
        "    # 1. check if 4,2,1 is starting to occur repeatedly in the resulting series\n",
        "    if(stop_check == [4,2,1,4,2,1,4,2,1]):\n",
        "      # print(\"Exit  program early as the 4,2,1 loop is occduring\")\n",
        "      # print(\"Iteration exited:\", i)\n",
        "      return result_list\n",
        "\n",
        "    # 2. if n is even, divide by 2\n",
        "    # 3. if n is odd, n = 3n+1\n",
        "    if(n % 2 == 0):\n",
        "      n = n//2\n",
        "    else: \n",
        "      n = (3*n)+1\n",
        "\n",
        "    # 4. add the new n to our resulting series\n",
        "    result_list.append(n)\n",
        "\n",
        "    # 5. See if the 4,2,1 loop is starting to occur, \n",
        "    # and if so, add n to our \"stop_check\"\n",
        "    if(n == 1 or n == 2 or n == 4):\n",
        "      stop_check.append(n)\n",
        "\n",
        "  return result_list\n"
      ],
      "metadata": {
        "id": "wpAptPW-TWEI"
      },
      "execution_count": 93,
      "outputs": []
    },
    {
      "cell_type": "code",
      "source": [
        "%timeit exploration(15)\n",
        "\n",
        "print('\\n') \n",
        "print(\"Resulting Series: \", exploration(77))"
      ],
      "metadata": {
        "colab": {
          "base_uri": "https://localhost:8080/"
        },
        "id": "0psqM583YlEE",
        "outputId": "73805b5f-52a5-48a3-f513-a87384504580"
      },
      "execution_count": 96,
      "outputs": [
        {
          "output_type": "stream",
          "name": "stdout",
          "text": [
            "100000 loops, best of 5: 10.8 µs per loop\n",
            "\n",
            "\n",
            "Resulting Series:  [77, 232, 116, 58, 29, 88, 44, 22, 11, 34, 17, 52, 26, 13, 40, 20, 10, 5, 16, 8, 4, 2, 1, 4, 2, 1, 4, 2, 1]\n"
          ]
        }
      ]
    }
  ]
}