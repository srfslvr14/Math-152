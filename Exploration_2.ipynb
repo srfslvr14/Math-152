{
  "nbformat": 4,
  "nbformat_minor": 0,
  "metadata": {
    "colab": {
      "name": "Exploration 2",
      "provenance": [],
      "collapsed_sections": [],
      "authorship_tag": "ABX9TyNk+mT9hHpH8Y6AHohQe+uT",
      "include_colab_link": true
    },
    "kernelspec": {
      "name": "python3",
      "display_name": "Python 3"
    },
    "language_info": {
      "name": "python"
    }
  },
  "cells": [
    {
      "cell_type": "markdown",
      "metadata": {
        "id": "view-in-github",
        "colab_type": "text"
      },
      "source": [
        "<a href=\"https://colab.research.google.com/github/srfslvr14/Math-152/blob/main/Exploration_2.ipynb\" target=\"_parent\"><img src=\"https://colab.research.google.com/assets/colab-badge.svg\" alt=\"Open In Colab\"/></a>"
      ]
    },
    {
      "cell_type": "markdown",
      "source": [
        "#EXPLORATION 2"
      ],
      "metadata": {
        "id": "1-wgJfbXQx4i"
      }
    },
    {
      "cell_type": "code",
      "execution_count": null,
      "metadata": {
        "id": "cqPNn6R2QsPI"
      },
      "outputs": [],
      "source": [
        ""
      ]
    },
    {
      "cell_type": "code",
      "source": [
        ""
      ],
      "metadata": {
        "id": "ZD2x5d8qQv7L"
      },
      "execution_count": null,
      "outputs": []
    }
  ]
}